{
 "cells": [
  {
   "cell_type": "code",
   "execution_count": 1,
   "id": "acac572e-754e-42c3-8b3c-14956a5c7ca4",
   "metadata": {},
   "outputs": [],
   "source": [
    "from GUI_test import *"
   ]
  },
  {
   "cell_type": "code",
   "execution_count": 2,
   "id": "e5a8606d-2928-4206-aa5e-4593561fbdb4",
   "metadata": {},
   "outputs": [
    {
     "name": "stdout",
     "output_type": "stream",
     "text": [
      "data_address: ['los Solans', ' 25736', ' Vilanova de Meià', ' Catalunya', ' España']\n"
     ]
    },
    {
     "name": "stderr",
     "output_type": "stream",
     "text": [
      "Exception in Tkinter callback\n",
      "Traceback (most recent call last):\n",
      "  File \"C:\\Users\\Nico Mumm\\.conda\\envs\\calcey\\Lib\\tkinter\\__init__.py\", line 1967, in __call__\n",
      "    return self.func(*args)\n",
      "           ^^^^^^^^^^^^^^^^\n",
      "  File \"C:\\Users\\Nico Mumm\\Documents\\PythonProjects\\SpringSchool\\calcey\\Calcey\\calcey\\GUI_test.py\", line 44, in print_result\n",
      "    yield_data = self.get_background_data_yield(value_lat, value_lon, crop)\n",
      "                 ^^^^^^^^^^^^^^^^^^^^^^^^^^^^^^^^^^^^^^^^^^^^^^^^^^^^^^^^^^\n",
      "  File \"C:\\Users\\Nico Mumm\\Documents\\PythonProjects\\SpringSchool\\calcey\\Calcey\\calcey\\GUI_test.py\", line 159, in get_background_data_yield\n",
      "    FAO_yield = float(df.loc[(df['Area'] == country) & (df['Year'] == 2022) & (df['Item'] == crop), 'Value'].iloc[0])\n",
      "                      ~~~~~~~~~~~~~~~~~~~~~~~~~~~~~~~~~~~~~~~~~~~~~~~~~~~~~~~~~~~~~~~~~~~~~~~~~~~~~~~~~~~~~~~~~~~^^^\n",
      "  File \"C:\\Users\\Nico Mumm\\.conda\\envs\\calcey\\Lib\\site-packages\\pandas\\core\\indexing.py\", line 1191, in __getitem__\n",
      "    return self._getitem_axis(maybe_callable, axis=axis)\n",
      "           ^^^^^^^^^^^^^^^^^^^^^^^^^^^^^^^^^^^^^^^^^^^^^\n",
      "  File \"C:\\Users\\Nico Mumm\\.conda\\envs\\calcey\\Lib\\site-packages\\pandas\\core\\indexing.py\", line 1752, in _getitem_axis\n",
      "    self._validate_integer(key, axis)\n",
      "  File \"C:\\Users\\Nico Mumm\\.conda\\envs\\calcey\\Lib\\site-packages\\pandas\\core\\indexing.py\", line 1685, in _validate_integer\n",
      "    raise IndexError(\"single positional indexer is out-of-bounds\")\n",
      "IndexError: single positional indexer is out-of-bounds\n"
     ]
    },
    {
     "name": "stdout",
     "output_type": "stream",
     "text": [
      "data_address: ['Кавказ', ' Кировское сельское поселение', ' Ростовская область', ' Россия']\n"
     ]
    },
    {
     "name": "stderr",
     "output_type": "stream",
     "text": [
      "Exception in Tkinter callback\n",
      "Traceback (most recent call last):\n",
      "  File \"C:\\Users\\Nico Mumm\\.conda\\envs\\calcey\\Lib\\tkinter\\__init__.py\", line 1967, in __call__\n",
      "    return self.func(*args)\n",
      "           ^^^^^^^^^^^^^^^^\n",
      "  File \"C:\\Users\\Nico Mumm\\Documents\\PythonProjects\\SpringSchool\\calcey\\Calcey\\calcey\\GUI_test.py\", line 44, in print_result\n",
      "    yield_data = self.get_background_data_yield(value_lat, value_lon, crop)\n",
      "                 ^^^^^^^^^^^^^^^^^^^^^^^^^^^^^^^^^^^^^^^^^^^^^^^^^^^^^^^^^^\n",
      "  File \"C:\\Users\\Nico Mumm\\Documents\\PythonProjects\\SpringSchool\\calcey\\Calcey\\calcey\\GUI_test.py\", line 159, in get_background_data_yield\n",
      "    FAO_yield = float(df.loc[(df['Area'] == country) & (df['Year'] == 2022) & (df['Item'] == crop), 'Value'].iloc[0])\n",
      "                      ~~~~~~~~~~~~~~~~~~~~~~~~~~~~~~~~~~~~~~~~~~~~~~~~~~~~~~~~~~~~~~~~~~~~~~~~~~~~~~~~~~~~~~~~~~~^^^\n",
      "  File \"C:\\Users\\Nico Mumm\\.conda\\envs\\calcey\\Lib\\site-packages\\pandas\\core\\indexing.py\", line 1191, in __getitem__\n",
      "    return self._getitem_axis(maybe_callable, axis=axis)\n",
      "           ^^^^^^^^^^^^^^^^^^^^^^^^^^^^^^^^^^^^^^^^^^^^^\n",
      "  File \"C:\\Users\\Nico Mumm\\.conda\\envs\\calcey\\Lib\\site-packages\\pandas\\core\\indexing.py\", line 1752, in _getitem_axis\n",
      "    self._validate_integer(key, axis)\n",
      "  File \"C:\\Users\\Nico Mumm\\.conda\\envs\\calcey\\Lib\\site-packages\\pandas\\core\\indexing.py\", line 1685, in _validate_integer\n",
      "    raise IndexError(\"single positional indexer is out-of-bounds\")\n",
      "IndexError: single positional indexer is out-of-bounds\n"
     ]
    },
    {
     "name": "stdout",
     "output_type": "stream",
     "text": [
      "data_address: ['Montauban', ' 18320', ' Torteron', ' Centre-Val de Loire', ' France']\n",
      "data_address: ['Montauban', ' 18320', ' Torteron', ' Centre-Val de Loire', ' France']\n",
      "France FRA\n"
     ]
    },
    {
     "name": "stderr",
     "output_type": "stream",
     "text": [
      "C:\\Users\\Nico Mumm\\Documents\\PythonProjects\\SpringSchool\\calcey\\Calcey\\calcey\\GUI_test.py:122: FutureWarning: Series.__getitem__ treating keys as positions is deprecated. In a future version, integer keys will always be treated as labels (consistent with DataFrame behavior). To access a value by position, use `ser.iloc[pos]`\n",
      "  country_proxy_ISO3 = country_mapping_file.loc[country_ISO3,\"iso3_nearest\"][0]\n"
     ]
    },
    {
     "name": "stdout",
     "output_type": "stream",
     "text": [
      "FRA\n",
      "The yield in kg per ha is: 6996.7\n",
      "The water footprint in m3 per kg is: 37.24323272705078\n",
      "The total amount of pesticide used per kg is: 0.0\n",
      "                value\n",
      "pesticide_name       \n",
      "Aggregatio        NaN\n",
      "data_address: ['Montauban', ' 18320', ' Torteron', ' Centre-Val de Loire', ' France']\n",
      "data_address: ['Montauban', ' 18320', ' Torteron', ' Centre-Val de Loire', ' France']\n",
      "France FRA\n"
     ]
    },
    {
     "name": "stderr",
     "output_type": "stream",
     "text": [
      "C:\\Users\\Nico Mumm\\Documents\\PythonProjects\\SpringSchool\\calcey\\Calcey\\calcey\\GUI_test.py:122: FutureWarning: Series.__getitem__ treating keys as positions is deprecated. In a future version, integer keys will always be treated as labels (consistent with DataFrame behavior). To access a value by position, use `ser.iloc[pos]`\n",
      "  country_proxy_ISO3 = country_mapping_file.loc[country_ISO3,\"iso3_nearest\"][0]\n"
     ]
    },
    {
     "name": "stdout",
     "output_type": "stream",
     "text": [
      "FRA\n",
      "The yield in kg per ha is: 7470.1\n",
      "The water footprint in m3 per kg is: 37.24323272705078\n",
      "The total amount of pesticide used per kg is: 0.00011094022430378166\n",
      "                       value\n",
      "pesticide_name              \n",
      "2,4-D           1.138773e-06\n",
      "ACETOCHLOR      0.000000e+00\n",
      "ALACHLOR        0.000000e+00\n",
      "ATRAZINE        0.000000e+00\n",
      "CHLORPYRIFOS    1.250370e-06\n",
      "CLOPYRALID      7.676332e-07\n",
      "DICAMBA         2.064261e-06\n",
      "DIMETHENAMID-P  5.009968e-06\n",
      "EPTC            3.720919e-08\n",
      "GLUFOSINATE     6.193415e-07\n",
      "GLYPHOSATE      8.801213e-05\n",
      "MESOTRIONE      8.461579e-07\n",
      "METOLACHLOR-S   8.082328e-06\n",
      "METOLACHLOR     0.000000e+00\n",
      "PARAQUAT        0.000000e+00\n",
      "PENDIMETHALIN   3.112049e-06\n",
      "PROPARGITE      0.000000e+00\n",
      "SIMAZINE        0.000000e+00\n",
      "TERBUFOS        0.000000e+00\n"
     ]
    }
   ],
   "source": [
    "if __name__ == \"__main__\":\n",
    "    app = calcey()\n",
    "    app.run()"
   ]
  },
  {
   "cell_type": "code",
   "execution_count": null,
   "id": "4bedf80b-3400-4223-87c3-d1c11983db6c",
   "metadata": {},
   "outputs": [],
   "source": []
  }
 ],
 "metadata": {
  "kernelspec": {
   "display_name": "Python 3 (ipykernel)",
   "language": "python",
   "name": "python3"
  },
  "language_info": {
   "codemirror_mode": {
    "name": "ipython",
    "version": 3
   },
   "file_extension": ".py",
   "mimetype": "text/x-python",
   "name": "python",
   "nbconvert_exporter": "python",
   "pygments_lexer": "ipython3",
   "version": "3.11.9"
  }
 },
 "nbformat": 4,
 "nbformat_minor": 5
}
