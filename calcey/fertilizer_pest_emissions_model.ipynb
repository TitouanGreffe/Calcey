{
 "cells": [
  {
   "cell_type": "markdown",
   "id": "bd3992f5-7a85-45fd-836d-39da425af4db",
   "metadata": {},
   "source": [
    "This script is used to calculate the emissions from fertilizer application and pesticides."
   ]
  },
  {
   "cell_type": "code",
   "execution_count": 2,
   "id": "a0c6e9c9-67b7-4fb0-ba8e-56794be9ff2f",
   "metadata": {},
   "outputs": [],
   "source": [
    "import pandas as pd\n",
    "import bw2data as bd\n"
   ]
  },
  {
   "cell_type": "code",
   "execution_count": 3,
   "id": "d86737d6-664a-4c8b-a63d-7475dbe9d91b",
   "metadata": {},
   "outputs": [],
   "source": [
    "# User input data from UI! MUST REPLACE WITH VARIABLE FROM KARINA\n",
    "user_input_fert_type = \"Urea\"\n",
    "user_input_fert_quantity_kg = 0.02"
   ]
  },
  {
   "cell_type": "code",
   "execution_count": 5,
   "id": "e0c36ae2-4cfa-403e-88d1-83999b9a2284",
   "metadata": {},
   "outputs": [
    {
     "name": "stdout",
     "output_type": "stream",
     "text": [
      "Emission_kg_N2O: 0.00 kg\n",
      "Emission_kg_NH3: 0.00 kg\n",
      "Emission_kg_NO3: 0.01 kg\n",
      "Emission_kg_NOx_N: 0.00 kg\n",
      "Emission_kg_P: 0.00 kg\n"
     ]
    }
   ],
   "source": [
    "# Create dataframe for generic fertilizer content\n",
    "data_fertilizer_content = {\n",
    "    'fertilizer_type': ['Ammonium Sulphate', 'Ammonium chloride', 'Calcium Ammonium Nitrate', \n",
    "                        'Calcium Ammonium Nitrate', 'Calcium Nitrate', 'Urea', \n",
    "                        'Single superphosphate SSP 14%', 'Rock Phosphate (powder/granular)', \n",
    "                        'Potassium chloride (powder/granular)', 'Potassium Sulphate', \n",
    "                        'NPK 15-15-15', 'NPK 10-26-26'],\n",
    "    'fert_N_content_%': [0.206, 0.250, 0.250, 0.260, 0.155, 0.460, 0.000, 0.000, 0.000, 0.000, 0.150, 0.100],\n",
    "    'fert_P2O5_content_%': [0.000, 0.000, 0.000, 0.000, 0.000, 0.000, 0.140, 0.180, 0.000, 0.000, 0.150, 0.221],\n",
    "    'fert_K2O_content_%': [0.00, 0.00, 0.00, 0.00, 0.00, 0.00, 0.00, 0.00, 0.60, 0.50, 0.15, 0.26]\n",
    "}\n",
    "\n",
    "df_fertilizer_content = pd.DataFrame(data_fertilizer_content)\n",
    "\n",
    "def calculate_individual_nutrient_contents(user_input_fert_type, user_input_fert_quantity_kg):\n",
    "    fert_row = df_fertilizer_content[df_fertilizer_content['fertilizer_type'] == user_input_fert_type]\n",
    "    \n",
    "    if fert_row.empty:\n",
    "        raise ValueError(f\"Fertilizer type '{user_input_fert_type}' not found in the DataFrame.\")\n",
    "    \n",
    "    nutrient_content_N = fert_row['fert_N_content_%'].values[0]\n",
    "    nutrient_content_P = fert_row['fert_P2O5_content_%'].values[0]\n",
    "    nutrient_content_K = fert_row['fert_K2O_content_%'].values[0]\n",
    "      \n",
    "    user_input_fert_kg_N = user_input_fert_quantity_kg * nutrient_content_N\n",
    "    user_input_fert_kg_P = user_input_fert_quantity_kg * nutrient_content_P\n",
    "    user_input_fert_kg_K = user_input_fert_quantity_kg * nutrient_content_K\n",
    "    \n",
    "    return user_input_fert_kg_N, user_input_fert_kg_P, user_input_fert_kg_K\n",
    "\n",
    "# Function to calculate emissions\n",
    "def calculate_emissions(user_input_fert_kg_N, user_input_fert_kg_P, EF_N2O_fert, EF_NH3_syn_fert, EF_NH3_org_fert, EF_NO3_fert, EF_NOx_fert, EF_P_fert):\n",
    "    Emission_kg_N2O = user_input_fert_kg_N * EF_N2O_fert\n",
    "    Emission_syn_kg_NH3 = user_input_fert_kg_N * EF_NH3_syn_fert\n",
    "    Emission_org_kg_NH3 = user_input_fert_kg_N * EF_NH3_org_fert\n",
    "    Emission_kg_NH3 = Emission_syn_kg_NH3 + Emission_org_kg_NH3\n",
    "    Emission_kg_NO3 = user_input_fert_kg_N * EF_NO3_fert\n",
    "    Emission_kg_NOx_N = (user_input_fert_kg_N - Emission_kg_NH3 * 17 / 14) * EF_NOx_fert\n",
    "    Emission_kg_P = user_input_fert_kg_P * EF_P_fert\n",
    "    \n",
    "    return {\n",
    "        'Emission_kg_N2O': Emission_kg_N2O,\n",
    "        'Emission_kg_NH3': Emission_kg_NH3,\n",
    "        'Emission_kg_NO3': Emission_kg_NO3,\n",
    "        'Emission_kg_NOx_N': Emission_kg_NOx_N,\n",
    "        'Emission_kg_P': Emission_kg_P\n",
    "    }\n",
    "\n",
    "# Nutrient contents calculation\n",
    "user_input_fert_kg_N, user_input_fert_kg_P, user_input_fert_kg_K = calculate_individual_nutrient_contents(user_input_fert_type, user_input_fert_quantity_kg)\n",
    "\n",
    "# Emission factors\n",
    "EF_N2O_fert = 0.022\n",
    "EF_NH3_syn_fert = 0.12\n",
    "EF_NH3_org_fert = 0.24\n",
    "EF_NO3_fert = 1.33\n",
    "EF_NOx_fert = 0.012\n",
    "EF_P_fert = 0.05\n",
    "\n",
    "# Emissions calculation\n",
    "emissions = calculate_emissions(user_input_fert_kg_N, user_input_fert_kg_P, EF_N2O_fert, EF_NH3_syn_fert, EF_NH3_org_fert, EF_NO3_fert, EF_NOx_fert, EF_P_fert)\n",
    "\n",
    "# Display the results\n",
    "for emission_type, value in emissions.items():\n",
    "    print(f\"{emission_type}: {value:.2f} kg\")\n",
    "\n"
   ]
  },
  {
   "cell_type": "code",
   "execution_count": 15,
   "id": "99128b0f-b08b-4279-82ba-7cf47757a6ae",
   "metadata": {},
   "outputs": [
    {
     "name": "stdout",
     "output_type": "stream",
     "text": [
      "[{'name': 'Dinitrogen monoxide', 'code': '20185046-64bb-4c09-a8e7-e8a9e144ca98', 'categories': ('air',), 'type': 'emission', 'database': 'ecoinvent-3.10-biosphere'}, {'name': 'Ammonia', 'code': '87883a4e-1e3e-4c9d-90c0-f1bea36f8014', 'categories': ('air',), 'type': 'emission', 'database': 'ecoinvent-3.10-biosphere'}, {'name': 'Nitrate', 'code': '5189de76-6bbb-44ba-8c42-5714f1b4371f', 'categories': ('water',), 'type': 'emission', 'database': 'ecoinvent-3.10-biosphere'}, {'name': 'Nitrogen oxides', 'code': 'c1b91234-6f24-417b-8309-46111d09c457', 'categories': ('air',), 'type': 'emission', 'database': 'ecoinvent-3.10-biosphere'}, {'name': 'Phosphate', 'code': 'c8791f3c-3c4a-4278-91c0-483797d14da2', 'categories': ('water',), 'type': 'emission', 'database': 'ecoinvent-3.10-biosphere'}]\n"
     ]
    }
   ],
   "source": [
    "bd.projects.set_current('ecoinvent-3.10-cutoff')\n",
    "\n",
    "fert_emission_names_compartment = {\n",
    "    'name': [\"Dinitrogen monoxide\", \"Ammonia\", \"Nitrate\", \"Nitrogen oxides\", \"Phosphate\"],\n",
    "    'categories': [\"air\", \"air\", \"water\", \"air\", \"water\"]\n",
    "}\n",
    "\n",
    "# Function to search and filter emissions in the database\n",
    "def get_emission_info(fert_emission_names_compartment, database_name='ecoinvent-3.10-biosphere'):\n",
    "    db = bd.Database(database_name)\n",
    "    emission_info = []\n",
    "\n",
    "    for name, category in zip(fert_emission_names_compartment['name'], fert_emission_names_compartment['categories']):\n",
    "        # Search for the emission name in the database\n",
    "        search_results = db.search(name)\n",
    "        \n",
    "        # Filter results to find the simplest category\n",
    "        for result in search_results:\n",
    "            result_dict = result.as_dict()\n",
    "            if result_dict['categories'] == (category,):\n",
    "                # Extract required fields\n",
    "                emission_info.append({\n",
    "                    'name': result_dict['name'],\n",
    "                    'code': result_dict['code'],\n",
    "                    'categories': result_dict['categories'],\n",
    "                    'type': result_dict['type'],\n",
    "                    'database': result_dict['database'],\n",
    "                })\n",
    "                break  # Stop searching once the simplest category is found\n",
    "\n",
    "    return emission_info\n",
    "\n",
    "emission_data = get_emission_info(fert_emission_names_compartment)\n",
    "print(emission_data)"
   ]
  },
  {
   "cell_type": "code",
   "execution_count": null,
   "id": "45cb8a06-b920-4087-a2b1-0d95ec0c490e",
   "metadata": {},
   "outputs": [],
   "source": []
  },
  {
   "cell_type": "code",
   "execution_count": 11,
   "id": "4e4f8d0a-c2e7-4e0e-95e7-31140bf40c0e",
   "metadata": {},
   "outputs": [
    {
     "name": "stdout",
     "output_type": "stream",
     "text": [
      "       pesticide_name  pest_em_soil  pest_em_air\n",
      "0               2,4-D           0.9          0.1\n",
      "1              2,4-DB           1.8          0.2\n",
      "2            CARBARYL           2.7          0.3\n",
      "3        CHLORPYRIFOS           3.6          0.4\n",
      "4           CLETHODIM           4.5          0.5\n",
      "5  CYHALOTHRIN-LAMBDA           5.4          0.6\n"
     ]
    }
   ],
   "source": [
    "#This block is used to calculate emissions from pesticide application.\n",
    "\n",
    "# This is example data of pesticides for the sake of checking if the code works. THIS MUST BE REPLACED WITH THE DATA FROM NICO.\n",
    "pesticide_quantity_dict = {\n",
    "    'pesticide_name': ['2,4-D', '2,4-DB', 'CARBARYL', 'CHLORPYRIFOS', 'CLETHODIM', 'CYHALOTHRIN-LAMBDA'],\n",
    "    'pest_quantity_kg_per_ha': [1, 2, 3, 4, 5, 6]\n",
    "}\n",
    "df_pesticide_quantity = pd.DataFrame(pesticide_quantity_dict)\n",
    "\n",
    "# Emission factors\n",
    "EF_pest_soil = 0.9\n",
    "EF_pest_air = 0.1\n",
    "\n",
    "# Initialize an empty list to store the results\n",
    "results = []\n",
    "\n",
    "# Iterate through the DataFrame rows\n",
    "for index, row in df_pesticide_quantity.iterrows():\n",
    "    pesticide_name = row['pesticide_name']\n",
    "    pest_quantity = row['pest_quantity_kg_per_ha']\n",
    "    \n",
    "    # Calculate emissions\n",
    "    pest_em_soil = pest_quantity * EF_pest_soil\n",
    "    pest_em_air = pest_quantity * EF_pest_air\n",
    "    \n",
    "    # Append the results as a dictionary\n",
    "    results.append({\n",
    "        'pesticide_name': pesticide_name,\n",
    "        'pest_em_soil': pest_em_soil,\n",
    "        'pest_em_air': pest_em_air\n",
    "    })\n",
    "\n",
    "# Convert the results list to a DataFrame\n",
    "df_emissions = pd.DataFrame(results)\n",
    "\n",
    "# Display the resulting DataFrame\n",
    "print(df_emissions)\n"
   ]
  },
  {
   "cell_type": "code",
   "execution_count": null,
   "id": "b00c62cb-99e4-466a-ba99-2a50535816b1",
   "metadata": {},
   "outputs": [],
   "source": [
    "def create_main_process(name_database,Latitude,Longitude,crop):\n",
    "    country = country_from_coordinates(Latitude,Longitude)\n",
    "    name = \"Production of \"+crop+\" in \"+country\n",
    "    data = {\n",
    "    \"code\": uuid.uuid4().hex ,\n",
    "    \"name\": name,\n",
    "    \"reference product\":crop,\n",
    "    \"location\": country,\n",
    "    \"Latitude\": Latitude, \n",
    "    \"Longitude\": Longitude, \n",
    "    \"database\":name_database,\n",
    "}\n",
    "    self.product = db.new_node(**data)\n",
    "    self.product.save()"
   ]
  },
  {
   "cell_type": "code",
   "execution_count": null,
   "id": "0e02f9b9-450a-4975-a9a0-d76d69d2a3e9",
   "metadata": {},
   "outputs": [],
   "source": []
  },
  {
   "cell_type": "code",
   "execution_count": null,
   "id": "09debdf8-f36c-4beb-8ff4-2c7e0805c58d",
   "metadata": {},
   "outputs": [],
   "source": []
  },
  {
   "cell_type": "code",
   "execution_count": 17,
   "id": "536af5a1-fb29-4b01-817d-72719b581a31",
   "metadata": {},
   "outputs": [
    {
     "name": "stdout",
     "output_type": "stream",
     "text": [
      "Creating edge: {'amount': 1, 'type': 'technosphere', 'input': '2,4-D'}\n",
      "Creating edge: {'amount': 2, 'type': 'technosphere', 'input': '2,4-DB'}\n",
      "Creating edge: {'amount': 3, 'type': 'technosphere', 'input': 'CARBARYL'}\n",
      "Creating edge: {'amount': 4, 'type': 'biosphere', 'input': 'CHLORPYRIFOS'}\n",
      "Creating edge: {'amount': 5, 'type': 'biosphere', 'input': 'CLETHODIM'}\n",
      "Creating edge: {'amount': 6, 'type': 'biosphere', 'input': 'CYHALOTHRIN-LAMBDA'}\n",
      "{'amount': 1, 'type': 'technosphere', 'input': '2,4-D'}\n",
      "{'amount': 2, 'type': 'technosphere', 'input': '2,4-DB'}\n",
      "{'amount': 3, 'type': 'technosphere', 'input': 'CARBARYL'}\n",
      "{'amount': 4, 'type': 'biosphere', 'input': 'CHLORPYRIFOS'}\n",
      "{'amount': 5, 'type': 'biosphere', 'input': 'CLETHODIM'}\n",
      "{'amount': 6, 'type': 'biosphere', 'input': 'CYHALOTHRIN-LAMBDA'}\n"
     ]
    }
   ],
   "source": [
    "# Example DataFrame structure for inputs and outputs\n",
    "data = {\n",
    "    'amount': [1, 2, 3, 4, 5, 6],\n",
    "    'type': ['technosphere', 'technosphere', 'technosphere', 'biosphere', 'biosphere', 'biosphere'],\n",
    "    'input_name': ['2,4-D', '2,4-DB', 'CARBARYL', 'CHLORPYRIFOS', 'CLETHODIM', 'CYHALOTHRIN-LAMBDA']\n",
    "}\n",
    "df_product_lci = pd.DataFrame(data)\n",
    "\n",
    "# Define the create_edge function\n",
    "def create_edge(amount, type_, input_name):\n",
    "    # Hypothetical edge creation process\n",
    "    edge = {\n",
    "        'amount': amount,\n",
    "        'type': type_,\n",
    "        'input': input_name\n",
    "    }\n",
    "    print(f\"Creating edge: {edge}\")\n",
    "    return edge\n",
    "\n",
    "# Define the function to process the DataFrame and create edges\n",
    "def process_io_dataframe(df_product_lci):\n",
    "    edges = []\n",
    "    for index, row in df_io.iterrows():\n",
    "        amount = row['amount']\n",
    "        type_ = row['type']\n",
    "        input_name = row['input_name']\n",
    "        \n",
    "        edge = create_edge(amount, type_, input_name)\n",
    "        edges.append(edge)\n",
    "    \n",
    "    return edges\n",
    "\n",
    "# Process the DataFrame to create edges and return them\n",
    "edges = process_io_dataframe(df_product_lci)\n",
    "\n",
    "# Display the created edges\n",
    "for edge in edges:\n",
    "    print(edge)\n"
   ]
  },
  {
   "cell_type": "code",
   "execution_count": null,
   "id": "f35962ad-24c9-493c-9cdd-374d71237a55",
   "metadata": {},
   "outputs": [],
   "source": [
    "def create_edge(amount, name, code):\n",
    "    self.product.new_edge(\n",
    "        amount=amount, \n",
    "        type= type(name), #function that takes the name, returns technosphere or biosphere\n",
    "        input=code #key, and the key is the database which has the code\n",
    "    ).save()"
   ]
  }
 ],
 "metadata": {
  "kernelspec": {
   "display_name": "calcey_env_em",
   "language": "python",
   "name": "python3"
  },
  "language_info": {
   "codemirror_mode": {
    "name": "ipython",
    "version": 3
   },
   "file_extension": ".py",
   "mimetype": "text/x-python",
   "name": "python",
   "nbconvert_exporter": "python",
   "pygments_lexer": "ipython3",
   "version": "3.12.3"
  }
 },
 "nbformat": 4,
 "nbformat_minor": 5
}
