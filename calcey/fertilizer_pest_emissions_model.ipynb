{
 "cells": [
  {
   "cell_type": "markdown",
   "id": "bd3992f5-7a85-45fd-836d-39da425af4db",
   "metadata": {},
   "source": [
    "This script is used to calculate the emissions from fertilizer application and pesticides."
   ]
  },
  {
   "cell_type": "code",
   "execution_count": 2,
   "id": "a0c6e9c9-67b7-4fb0-ba8e-56794be9ff2f",
   "metadata": {},
   "outputs": [],
   "source": [
    "import pandas as pd\n",
    "import bw2data as bd\n"
   ]
  },
  {
   "cell_type": "code",
   "execution_count": 3,
   "id": "d86737d6-664a-4c8b-a63d-7475dbe9d91b",
   "metadata": {},
   "outputs": [],
   "source": [
    "# User input data from UI! MUST REPLACE WITH VARIABLE FROM KARINA\n",
    "user_input_fert_type = \"Urea\"\n",
    "user_input_fert_quantity_kg = 0.02"
   ]
  },
  {
   "cell_type": "code",
   "execution_count": null,
   "id": "e0c36ae2-4cfa-403e-88d1-83999b9a2284",
   "metadata": {},
   "outputs": [
    {
     "name": "stdout",
     "output_type": "stream",
     "text": [
      "Emission_kg_N2O: 0.00 kg\n",
      "Emission_kg_NH3: 0.00 kg\n",
      "Emission_kg_NO3: 0.01 kg\n",
      "Emission_kg_NOx_N: 0.00 kg\n",
      "Emission_kg_P: 0.00 kg\n"
     ]
    }
   ],
   "source": [
    "def calculate_fert_emissions(fert_name, amount):\n",
    "    # Create dataframe for generic fertilizer content\n",
    "    data_fertilizer_content = {\n",
    "        'fertilizer_type': ['Ammonium Sulphate', 'Ammonium chloride', 'Calcium Ammonium Nitrate', \n",
    "                            'Calcium Ammonium Nitrate', 'Calcium Nitrate', 'Urea', \n",
    "                            'Single superphosphate SSP 14%', 'Rock Phosphate (powder/granular)', \n",
    "                            'Potassium chloride (powder/granular)', 'Potassium Sulphate', \n",
    "                            'NPK 15-15-15', 'NPK 10-26-26'],\n",
    "        'fert_N_content_%': [0.206, 0.250, 0.250, 0.260, 0.155, 0.460, 0.000, 0.000, 0.000, 0.000, 0.150, 0.100],\n",
    "        'fert_P2O5_content_%': [0.000, 0.000, 0.000, 0.000, 0.000, 0.000, 0.140, 0.180, 0.000, 0.000, 0.150, 0.221],\n",
    "        'fert_K2O_content_%': [0.00, 0.00, 0.00, 0.00, 0.00, 0.00, 0.00, 0.00, 0.60, 0.50, 0.15, 0.26]\n",
    "    }\n",
    "    df_fertilizer_content = pd.DataFrame(data_fertilizer_content)\n",
    "\n",
    "    def calculate_individual_nutrient_contents(user_input_fert_type, user_input_fert_quantity_kg):\n",
    "        fert_row = df_fertilizer_content[df_fertilizer_content['fertilizer_type'] == user_input_fert_type]\n",
    "        \n",
    "        if fert_row.empty:\n",
    "            raise ValueError(f\"Fertilizer type '{user_input_fert_type}' not found in the DataFrame.\")\n",
    "        \n",
    "        nutrient_content_N = fert_row['fert_N_content_%'].values[0]\n",
    "        nutrient_content_P = fert_row['fert_P2O5_content_%'].values[0]\n",
    "        nutrient_content_K = fert_row['fert_K2O_content_%'].values[0]\n",
    "        \n",
    "        user_input_fert_kg_N = user_input_fert_quantity_kg * nutrient_content_N\n",
    "        user_input_fert_kg_P = user_input_fert_quantity_kg * nutrient_content_P\n",
    "        user_input_fert_kg_K = user_input_fert_quantity_kg * nutrient_content_K\n",
    "        \n",
    "        return user_input_fert_kg_N, user_input_fert_kg_P, user_input_fert_kg_K\n",
    "\n",
    "    # Function to calculate emissions\n",
    "    def calculate_emissions(user_input_fert_kg_N, user_input_fert_kg_P, EF_N2O_fert, EF_NH3_syn_fert, EF_NH3_org_fert, EF_NO3_fert, EF_NOx_fert, EF_P_fert):\n",
    "        Emission_kg_N2O = user_input_fert_kg_N * EF_N2O_fert\n",
    "        Emission_syn_kg_NH3 = user_input_fert_kg_N * EF_NH3_syn_fert\n",
    "        Emission_org_kg_NH3 = user_input_fert_kg_N * EF_NH3_org_fert\n",
    "        Emission_kg_NH3 = Emission_syn_kg_NH3 + Emission_org_kg_NH3\n",
    "        Emission_kg_NO3 = user_input_fert_kg_N * EF_NO3_fert\n",
    "        Emission_kg_NOx = ((user_input_fert_kg_N - Emission_kg_NH3 * 17 / 14) * EF_NOx_fert)*14/17\n",
    "        Emission_kg_P = user_input_fert_kg_P * EF_P_fert\n",
    "        \n",
    "        emissions_data = {\n",
    "            'Emission_kg_N2O': [Emission_kg_N2O],\n",
    "            'Emission_kg_NH3': [Emission_kg_NH3],\n",
    "            'Emission_kg_NO3': [Emission_kg_NO3],\n",
    "            'Emission_kg_NOx_N': [Emission_kg_NOx_N],\n",
    "            'Emission_kg_P': [Emission_kg_P]\n",
    "        }\n",
    "        \n",
    "        return pd.DataFrame(emissions_data)\n",
    "\n",
    "    # Nutrient contents calculation\n",
    "    user_input_fert_kg_N, user_input_fert_kg_P, user_input_fert_kg_K = calculate_individual_nutrient_contents(user_input_fert_type, user_input_fert_quantity_kg)\n",
    "\n",
    "    # Emission factors\n",
    "    EF_N2O_fert = 0.022\n",
    "    EF_NH3_syn_fert = 0.12\n",
    "    EF_NH3_org_fert = 0.24\n",
    "    EF_NO3_fert = 1.33\n",
    "    EF_NOx_fert = 0.012\n",
    "    EF_P_fert = 0.05\n",
    "\n",
    "    # Emissions calculation\n",
    "    emissions = calculate_emissions(user_input_fert_kg_N, user_input_fert_kg_P, EF_N2O_fert, EF_NH3_syn_fert, EF_NH3_org_fert, EF_NO3_fert, EF_NOx_fert, EF_P_fert)\n",
    "\n",
    "return print(emissions)\n"
   ]
  },
  {
   "cell_type": "code",
   "execution_count": 2,
   "id": "4e4f8d0a-c2e7-4e0e-95e7-31140bf40c0e",
   "metadata": {},
   "outputs": [
    {
     "ename": "NameError",
     "evalue": "name 'df_pest' is not defined",
     "output_type": "error",
     "traceback": [
      "\u001b[1;31m---------------------------------------------------------------------------\u001b[0m",
      "\u001b[1;31mNameError\u001b[0m                                 Traceback (most recent call last)",
      "\u001b[1;32mc:\\Users\\EricaYvonneMontemayo\\OneDrive - 2.-0 LCA Consultants ApS\\Documents\\GitHub\\Calcey\\calcey\\fertilizer_pest_emissions_model.ipynb Cell 5\u001b[0m line \u001b[0;36m4\n\u001b[0;32m      <a href='vscode-notebook-cell:/c%3A/Users/EricaYvonneMontemayo/OneDrive%20-%202.-0%20LCA%20Consultants%20ApS/Documents/GitHub/Calcey/calcey/fertilizer_pest_emissions_model.ipynb#W6sZmlsZQ%3D%3D?line=0'>1</a>\u001b[0m \u001b[39m#This block is used to calculate emissions from pesticide application.\u001b[39;00m\n\u001b[0;32m      <a href='vscode-notebook-cell:/c%3A/Users/EricaYvonneMontemayo/OneDrive%20-%202.-0%20LCA%20Consultants%20ApS/Documents/GitHub/Calcey/calcey/fertilizer_pest_emissions_model.ipynb#W6sZmlsZQ%3D%3D?line=1'>2</a>\u001b[0m \n\u001b[0;32m      <a href='vscode-notebook-cell:/c%3A/Users/EricaYvonneMontemayo/OneDrive%20-%202.-0%20LCA%20Consultants%20ApS/Documents/GitHub/Calcey/calcey/fertilizer_pest_emissions_model.ipynb#W6sZmlsZQ%3D%3D?line=2'>3</a>\u001b[0m \u001b[39m# This is example data of pesticides for the sake of checking if the code works. THIS MUST BE REPLACED WITH THE DATA FROM NICO.\u001b[39;00m\n\u001b[1;32m----> <a href='vscode-notebook-cell:/c%3A/Users/EricaYvonneMontemayo/OneDrive%20-%202.-0%20LCA%20Consultants%20ApS/Documents/GitHub/Calcey/calcey/fertilizer_pest_emissions_model.ipynb#W6sZmlsZQ%3D%3D?line=3'>4</a>\u001b[0m pesticide_quantity_dict \u001b[39m=\u001b[39m df_pest\n\u001b[0;32m      <a href='vscode-notebook-cell:/c%3A/Users/EricaYvonneMontemayo/OneDrive%20-%202.-0%20LCA%20Consultants%20ApS/Documents/GitHub/Calcey/calcey/fertilizer_pest_emissions_model.ipynb#W6sZmlsZQ%3D%3D?line=5'>6</a>\u001b[0m \u001b[39m# Emission factors\u001b[39;00m\n\u001b[0;32m      <a href='vscode-notebook-cell:/c%3A/Users/EricaYvonneMontemayo/OneDrive%20-%202.-0%20LCA%20Consultants%20ApS/Documents/GitHub/Calcey/calcey/fertilizer_pest_emissions_model.ipynb#W6sZmlsZQ%3D%3D?line=6'>7</a>\u001b[0m EF_pest_soil \u001b[39m=\u001b[39m \u001b[39m0.9\u001b[39m\n",
      "\u001b[1;31mNameError\u001b[0m: name 'df_pest' is not defined"
     ]
    }
   ],
   "source": [
    "#This block is used to calculate emissions from pesticide application.\n",
    "\n",
    "def calculate_pest_emissions(pest_name, amount):\n",
    "    pesticide_quantity_dict = df_pest\n",
    "\n",
    "    # Emission factors\n",
    "    EF_pest_soil = 0.9\n",
    "    EF_pest_air = 0.1\n",
    "\n",
    "    # Initialize an empty list to store the results\n",
    "    results = []\n",
    "\n",
    "    # Iterate through the DataFrame rows\n",
    "    for index, row in df_pesticide_quantity.iterrows():\n",
    "        pesticide_name = row['pesticide_name']\n",
    "        pest_quantity = row['value']\n",
    "        \n",
    "        # Calculate emissions\n",
    "        pest_em_soil = pest_quantity * EF_pest_soil\n",
    "        pest_em_air = pest_quantity * EF_pest_air\n",
    "        \n",
    "        # Append the results as a dictionary\n",
    "        results.append({\n",
    "            'pesticide_name': pesticide_name,\n",
    "            'pest_em_soil': pest_em_soil,\n",
    "            'pest_em_air': pest_em_air\n",
    "        })\n",
    "\n",
    "    # Convert the results list to a DataFrame\n",
    "    df_emissions = pd.DataFrame(results)\n",
    "   \n",
    "return print(df_emissions)"
   ]
  }
 ],
 "metadata": {
  "kernelspec": {
   "display_name": "calcey_env_em",
   "language": "python",
   "name": "python3"
  },
  "language_info": {
   "codemirror_mode": {
    "name": "ipython",
    "version": 3
   },
   "file_extension": ".py",
   "mimetype": "text/x-python",
   "name": "python",
   "nbconvert_exporter": "python",
   "pygments_lexer": "ipython3",
   "version": "3.12.3"
  }
 },
 "nbformat": 4,
 "nbformat_minor": 5
}
