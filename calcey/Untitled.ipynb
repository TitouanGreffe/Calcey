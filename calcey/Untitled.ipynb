{
 "cells": [
  {
   "cell_type": "code",
   "execution_count": 1,
   "id": "ab49971a-83d0-4f68-836b-902188aac3cd",
   "metadata": {},
   "outputs": [],
   "source": [
    "from GUI_test import *"
   ]
  },
  {
   "cell_type": "code",
   "execution_count": 2,
   "id": "fccebe72-5f17-4d49-a9c8-d2fa5cb251c0",
   "metadata": {},
   "outputs": [
    {
     "name": "stdout",
     "output_type": "stream",
     "text": [
      "location: Voie Communale des Bordes à Sainte-Lizaigne, Les Levrauts, Sainte-Lizaigne, Issoudun, Indre, Centre-Val de Loire, Metropolitan France, 36260, France\n",
      "address: Voie Communale des Bordes à Sainte-Lizaigne, Les Levrauts, Sainte-Lizaigne, Issoudun, Indre, Centre-Val de Loire, Metropolitan France, 36260, France\n",
      "data_address: ['Voie Communale des Bordes à Sainte-Lizaigne', ' Les Levrauts', ' Sainte-Lizaigne', ' Issoudun', ' Indre', ' Centre-Val de Loire', ' Metropolitan France', ' 36260', ' France']\n",
      "Successfully switch activity dataset to database `Calcey_crop_database`\n",
      "create_main_process finished\n",
      "You don't even know your yield! But we have an answer for you!\n",
      "location: Voie Communale des Bordes à Sainte-Lizaigne, Les Levrauts, Sainte-Lizaigne, Issoudun, Indre, Centre-Val de Loire, Metropolitan France, 36260, France\n",
      "address: Voie Communale des Bordes à Sainte-Lizaigne, Les Levrauts, Sainte-Lizaigne, Issoudun, Indre, Centre-Val de Loire, Metropolitan France, 36260, France\n",
      "data_address: ['Voie Communale des Bordes à Sainte-Lizaigne', ' Les Levrauts', ' Sainte-Lizaigne', ' Issoudun', ' Indre', ' Centre-Val de Loire', ' Metropolitan France', ' 36260', ' France']\n",
      "location: Voie Communale des Bordes à Sainte-Lizaigne, Les Levrauts, Sainte-Lizaigne, Issoudun, Indre, Centre-Val de Loire, Metropolitan France, 36260, France\n",
      "address: Voie Communale des Bordes à Sainte-Lizaigne, Les Levrauts, Sainte-Lizaigne, Issoudun, Indre, Centre-Val de Loire, Metropolitan France, 36260, France\n",
      "data_address: ['Voie Communale des Bordes à Sainte-Lizaigne', ' Les Levrauts', ' Sainte-Lizaigne', ' Issoudun', ' Indre', ' Centre-Val de Loire', ' Metropolitan France', ' 36260', ' France']\n",
      "France FRA\n"
     ]
    },
    {
     "name": "stderr",
     "output_type": "stream",
     "text": [
      "C:\\Users\\Nico Mumm\\Documents\\PythonProjects\\SpringSchool\\calcey\\Calcey\\calcey\\GUI_test.py:119: FutureWarning: Series.__getitem__ treating keys as positions is deprecated. In a future version, integer keys will always be treated as labels (consistent with DataFrame behavior). To access a value by position, use `ser.iloc[pos]`\n",
      "  country_proxy_ISO3 = country_mapping_file.loc[country_ISO3,\"iso3_nearest\"][0]\n"
     ]
    },
    {
     "name": "stdout",
     "output_type": "stream",
     "text": [
      "FRA\n"
     ]
    },
    {
     "name": "stderr",
     "output_type": "stream",
     "text": [
      "C:\\Users\\Nico Mumm\\Documents\\PythonProjects\\SpringSchool\\calcey\\Calcey\\calcey\\GUI_test.py:367: FutureWarning: Downcasting object dtype arrays on .fillna, .ffill, .bfill is deprecated and will change in a future version. Call result.infer_objects(copy=False) instead. To opt-in to the future behavior, set `pd.set_option('future.no_silent_downcasting', True)`\n",
      "  self.df_output = self.df_output.fillna(0)\n"
     ]
    },
    {
     "name": "stdout",
     "output_type": "stream",
     "text": [
      "dataframe_exchanges finished\n",
      "generate_edges_to_product finished\n",
      "0.08990615702267934\n"
     ]
    }
   ],
   "source": [
    "if __name__ == \"__main__\":\n",
    "    app = calcey()\n",
    "    app.run()"
   ]
  },
  {
   "cell_type": "code",
   "execution_count": 8,
   "id": "446c511e-2012-4dbb-8f08-be6267a32b79",
   "metadata": {},
   "outputs": [],
   "source": [
    "app.df_output.to_excel(\"output_FRA.xlsx\")"
   ]
  },
  {
   "cell_type": "code",
   "execution_count": null,
   "id": "36f956a5-df80-44ac-a645-63722f619885",
   "metadata": {},
   "outputs": [],
   "source": []
  },
  {
   "cell_type": "code",
   "execution_count": 3,
   "id": "63cc9cd9-ad95-4316-bd55-39e10dd2b3e4",
   "metadata": {},
   "outputs": [
    {
     "data": {
      "text/plain": [
       "Databases dictionary with 3 object(s):\n",
       "\tCalcey_crop_database\n",
       "\tbiosphere3\n",
       "\tecoinvent 3.9.1 cutoff"
      ]
     },
     "execution_count": 3,
     "metadata": {},
     "output_type": "execute_result"
    }
   ],
   "source": [
    "bd.databases"
   ]
  },
  {
   "cell_type": "code",
   "execution_count": 4,
   "id": "4e7a8183-9e8a-4e5f-af10-a1a54c4eb01b",
   "metadata": {},
   "outputs": [],
   "source": [
    "bd.projects.set_current(\"calcey\")"
   ]
  },
  {
   "cell_type": "code",
   "execution_count": 5,
   "id": "cacc90aa-99fe-4d9f-8b1b-356f6d4bc39b",
   "metadata": {},
   "outputs": [
    {
     "name": "stdout",
     "output_type": "stream",
     "text": [
      "Creating default biosphere\n",
      "\n",
      "Applying strategy: normalize_units\n",
      "Applying strategy: drop_unspecified_subcategories\n",
      "Applying strategy: ensure_categories_are_tuples\n",
      "Applied 3 strategies in 0.01 seconds\n"
     ]
    },
    {
     "name": "stderr",
     "output_type": "stream",
     "text": [
      "100%|██████████| 4709/4709 [00:00<00:00, 17768.16it/s]\n"
     ]
    },
    {
     "name": "stdout",
     "output_type": "stream",
     "text": [
      "Vacuuming database \n",
      "Created database: biosphere3\n",
      "Creating default LCIA methods\n",
      "\n",
      "Wrote 762 LCIA methods with 227223 characterization factors\n",
      "Creating core data migrations\n",
      "\n"
     ]
    }
   ],
   "source": [
    "bi.bw2setup()"
   ]
  },
  {
   "cell_type": "code",
   "execution_count": 6,
   "id": "a8166488-e70a-4a8e-9146-459296e4a4a3",
   "metadata": {},
   "outputs": [
    {
     "data": {
      "text/plain": [
       "Databases dictionary with 1 object(s):\n",
       "\tbiosphere3"
      ]
     },
     "execution_count": 6,
     "metadata": {},
     "output_type": "execute_result"
    }
   ],
   "source": [
    "bd.databases"
   ]
  },
  {
   "cell_type": "code",
   "execution_count": 9,
   "id": "fb1b7e56-7ba9-40b8-85ce-5fcee833141c",
   "metadata": {},
   "outputs": [
    {
     "name": "stdout",
     "output_type": "stream",
     "text": [
      "Extracting XML data from 21238 datasets\n",
      "Extracted 21238 datasets in 139.68 seconds\n"
     ]
    }
   ],
   "source": [
    "ei391 = bi.SingleOutputEcospold2Importer(r\"C:\\Users\\Nico Mumm\\Lokale Dokumente\\Data\\ecoinvent 3.9.1_cutoff_ecoSpold02\\datasets\", \"ecoinvent 3.9.1 cutoff\")"
   ]
  },
  {
   "cell_type": "code",
   "execution_count": 10,
   "id": "40ecddc6-9ed2-4ef7-b9c4-7dd67919110d",
   "metadata": {},
   "outputs": [
    {
     "name": "stdout",
     "output_type": "stream",
     "text": [
      "Applying strategy: normalize_units\n",
      "Applying strategy: update_ecoinvent_locations\n",
      "Applying strategy: remove_zero_amount_coproducts\n",
      "Applying strategy: remove_zero_amount_inputs_with_no_activity\n",
      "Applying strategy: remove_unnamed_parameters\n",
      "Applying strategy: es2_assign_only_product_with_amount_as_reference_product\n",
      "Applying strategy: assign_single_product_as_activity\n",
      "Applying strategy: create_composite_code\n",
      "Applying strategy: drop_unspecified_subcategories\n",
      "Applying strategy: fix_ecoinvent_flows_pre35\n",
      "Applying strategy: drop_temporary_outdated_biosphere_flows\n",
      "Applying strategy: link_biosphere_by_flow_uuid\n",
      "Applying strategy: link_internal_technosphere_by_composite_code\n",
      "Applying strategy: delete_exchanges_missing_activity\n",
      "Applying strategy: delete_ghost_exchanges\n",
      "Applying strategy: remove_uncertainty_from_negative_loss_exchanges\n",
      "Applying strategy: fix_unreasonably_high_lognormal_uncertainties\n",
      "Applying strategy: convert_activity_parameters_to_list\n",
      "Applying strategy: add_cpc_classification_from_single_reference_product\n",
      "Applying strategy: delete_none_synonyms\n",
      "Applying strategy: update_social_flows_in_older_consequential\n",
      "Applying strategy: set_lognormal_loc_value\n",
      "Applied 22 strategies in 9.37 seconds\n"
     ]
    }
   ],
   "source": [
    "ei391.apply_strategies()"
   ]
  },
  {
   "cell_type": "code",
   "execution_count": 11,
   "id": "1c9422fc-1ecd-4af5-b89a-377a727af9a6",
   "metadata": {},
   "outputs": [
    {
     "name": "stdout",
     "output_type": "stream",
     "text": [
      "Not able to determine geocollections for all datasets. This database is not ready for regionalization.\n"
     ]
    },
    {
     "name": "stderr",
     "output_type": "stream",
     "text": [
      "100%|██████████| 21238/21238 [01:16<00:00, 278.26it/s]\n"
     ]
    },
    {
     "name": "stdout",
     "output_type": "stream",
     "text": [
      "Vacuuming database \n",
      "Created database: ecoinvent 3.9.1 cutoff\n"
     ]
    },
    {
     "data": {
      "text/plain": [
       "Brightway2 SQLiteBackend: ecoinvent 3.9.1 cutoff"
      ]
     },
     "execution_count": 11,
     "metadata": {},
     "output_type": "execute_result"
    }
   ],
   "source": [
    "ei391.write_database()"
   ]
  },
  {
   "cell_type": "code",
   "execution_count": 13,
   "id": "19a119a9-2d58-4fc5-9d0d-bfd03983f83d",
   "metadata": {},
   "outputs": [
    {
     "data": {
      "text/plain": [
       "21238"
      ]
     },
     "execution_count": 13,
     "metadata": {},
     "output_type": "execute_result"
    }
   ],
   "source": [
    "bd.Database(\"ecoinvent 3.9.1 cutoff\")"
   ]
  },
  {
   "cell_type": "code",
   "execution_count": 14,
   "id": "382d1400-62f2-4f00-85d5-5b686a6df050",
   "metadata": {},
   "outputs": [],
   "source": [
    "from GUI_test import *"
   ]
  },
  {
   "cell_type": "code",
   "execution_count": 15,
   "id": "b36a01aa-b539-4e05-91b5-3ec0b836fb7d",
   "metadata": {},
   "outputs": [
    {
     "name": "stdout",
     "output_type": "stream",
     "text": [
      "data_address: ['Voie Communale de Villiers-les-Roses à Moqueriche', ' 36260', ' Sainte-Lizaigne', ' Centre-Val de Loire', ' France']\n",
      "data_address: ['Voie Communale de Villiers-les-Roses à Moqueriche', ' 36260', ' Sainte-Lizaigne', ' Centre-Val de Loire', ' France']\n",
      "France FRA\n"
     ]
    },
    {
     "name": "stderr",
     "output_type": "stream",
     "text": [
      "C:\\Users\\Nico Mumm\\Documents\\PythonProjects\\SpringSchool\\calcey\\Calcey\\calcey\\GUI_test.py:135: FutureWarning: Series.__getitem__ treating keys as positions is deprecated. In a future version, integer keys will always be treated as labels (consistent with DataFrame behavior). To access a value by position, use `ser.iloc[pos]`\n",
      "  country_ISO3 = self.ISO3_country_from_coordinates(Latitude, Longitude)\n"
     ]
    },
    {
     "name": "stdout",
     "output_type": "stream",
     "text": [
      "FRA\n",
      "The yield in kg per ha is: 6996.7\n",
      "The water footprint in m3 per kg is: 57.43996810913086\n",
      "The total amount of pesticide used per kg is: 0.0\n",
      "                value\n",
      "pesticide_name       \n",
      "Aggregatio        NaN\n"
     ]
    }
   ],
   "source": [
    "if __name__ == \"__main__\":\n",
    "    app = calcey()\n",
    "    app.run()"
   ]
  }
 ],
 "metadata": {
  "kernelspec": {
   "display_name": "Python 3 (ipykernel)",
   "language": "python",
   "name": "python3"
  },
  "language_info": {
   "codemirror_mode": {
    "name": "ipython",
    "version": 3
   },
   "file_extension": ".py",
   "mimetype": "text/x-python",
   "name": "python",
   "nbconvert_exporter": "python",
   "pygments_lexer": "ipython3",
   "version": "3.11.9"
  }
 },
 "nbformat": 4,
 "nbformat_minor": 5
}
