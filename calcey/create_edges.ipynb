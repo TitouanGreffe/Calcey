# THIS SCRIPT CREATES EDGES FOR ALL INPUTS AND OUPUTS FOR A PRODUCT
# Example DataFrame structure for inputs and outputs
data = {
    'amount': [1, 2, 3, 4, 5, 6],
    'type': ['technosphere', 'technosphere', 'technosphere', 'biosphere', 'biosphere', 'biosphere'],
    'input_name': ['2,4-D', '2,4-DB', 'CARBARYL', 'CHLORPYRIFOS', 'CLETHODIM', 'CYHALOTHRIN-LAMBDA']
}
df_product_lci = pd.DataFrame(data)

# Define the create_edge function
def create_edge(amount, type_, input_name):
    # Hypothetical edge creation process
    edge = {
        'amount': amount,
        'type': type_,
        'input': input_name
    }
    print(f"Creating edge: {edge}")
    return edge

# Define the function to process the DataFrame and create edges
def process_io_dataframe(df_product_lci):
    edges = []
    for index, row in df_io.iterrows():
        amount = row['amount']
        type_ = row['type']
        input_name = row['input_name']
        
        edge = create_edge(amount, type_, input_name)
        edges.append(edge)
    
    return edges

# Process the DataFrame to create edges and return them
edges = process_io_dataframe(df_product_lci)

# Display the created edges
for edge in edges:
    print(edge)