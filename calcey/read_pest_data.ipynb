{
 "cells": [
  {
   "cell_type": "code",
   "execution_count": 1,
   "id": "b834eb95-1f93-4920-8597-e10b58dc1b5c",
   "metadata": {},
   "outputs": [],
   "source": [
    "# import pandas as pd\n",
    "# from osgeo import gdal\n",
    "# import netCDF4\n",
    "# import numpy as np\n",
    "# import os\n",
    "# import openpyxl\n",
    "from functions_UI_to_BW import *\n",
    "# import geowombat as gw\n",
    "# from geowombat.data import rgbn"
   ]
  },
  {
   "cell_type": "markdown",
   "id": "cf987ccc-6442-4559-8f6e-a0f5ad7a6b9b",
   "metadata": {},
   "source": [
    "# make everything a function"
   ]
  },
  {
   "cell_type": "code",
   "execution_count": 2,
   "id": "1a737087-2312-4642-a69c-77e35ad7714b",
   "metadata": {},
   "outputs": [],
   "source": [
    "crop_ui = \"Maize (corn)\"\n",
    "lat_ui = 47.67\n",
    "lon_ui = 2.09\n",
    "obj = calcey()"
   ]
  },
  {
   "cell_type": "code",
   "execution_count": 3,
   "id": "dff5010a-8ac1-44ad-9118-23a9ad9df5bf",
   "metadata": {},
   "outputs": [
    {
     "data": {
      "text/plain": [
       "74701.0"
      ]
     },
     "execution_count": 3,
     "metadata": {},
     "output_type": "execute_result"
    }
   ],
   "source": [
    "yield_data = obj.get_background_data_yield(lat_ui, lon_ui, crop_ui)\n",
    "yield_data"
   ]
  },
  {
   "cell_type": "code",
   "execution_count": 4,
   "id": "d013c932-c1fd-4cef-a2fd-a76eea16da81",
   "metadata": {},
   "outputs": [
    {
     "data": {
      "text/html": [
       "<div>\n",
       "<style scoped>\n",
       "    .dataframe tbody tr th:only-of-type {\n",
       "        vertical-align: middle;\n",
       "    }\n",
       "\n",
       "    .dataframe tbody tr th {\n",
       "        vertical-align: top;\n",
       "    }\n",
       "\n",
       "    .dataframe thead th {\n",
       "        text-align: right;\n",
       "    }\n",
       "</style>\n",
       "<table border=\"1\" class=\"dataframe\">\n",
       "  <thead>\n",
       "    <tr style=\"text-align: right;\">\n",
       "      <th></th>\n",
       "      <th>water_footprint</th>\n",
       "      <th>value</th>\n",
       "    </tr>\n",
       "  </thead>\n",
       "  <tbody>\n",
       "    <tr>\n",
       "      <th>0</th>\n",
       "      <td>average_2010_2019</td>\n",
       "      <td>143.891724</td>\n",
       "    </tr>\n",
       "  </tbody>\n",
       "</table>\n",
       "</div>"
      ],
      "text/plain": [
       "     water_footprint       value\n",
       "0  average_2010_2019  143.891724"
      ]
     },
     "execution_count": 4,
     "metadata": {},
     "output_type": "execute_result"
    }
   ],
   "source": [
    "water_data = obj.get_background_data_water(lat_ui, lon_ui, crop_ui)\n",
    "water_data"
   ]
  },
  {
   "cell_type": "code",
   "execution_count": 3,
   "id": "200076f4-6977-44bd-af5c-e8d2525e7389",
   "metadata": {},
   "outputs": [
    {
     "name": "stdout",
     "output_type": "stream",
     "text": [
      "data_address: ['La Grillaire', ' 41600', ' Vouzon', ' Centre-Val de Loire', ' France']\n",
      "France FRA\n"
     ]
    },
    {
     "name": "stderr",
     "output_type": "stream",
     "text": [
      "C:\\Users\\Nico Mumm\\Documents\\PythonProjects\\SpringSchool\\calcey\\Calcey\\calcey\\functions_UI_to_BW.py:60: FutureWarning: Series.__getitem__ treating keys as positions is deprecated. In a future version, integer keys will always be treated as labels (consistent with DataFrame behavior). To access a value by position, use `ser.iloc[pos]`\n",
      "  country_proxy_ISO3 = country_mapping_file.loc[country_ISO3,\"iso3_nearest\"][0]\n"
     ]
    },
    {
     "name": "stdout",
     "output_type": "stream",
     "text": [
      "BEL\n"
     ]
    },
    {
     "data": {
      "text/plain": [
       "Country                  BELGIUM\n",
       "Mean_N_applied                50\n",
       "Min_N_applied                 50\n",
       "Max_N_applied                 50\n",
       "Mean_P2O5_applied             23\n",
       "Min_P2O5_applied              23\n",
       "Max_P2O5_applied              23\n",
       "Mean_K2O_applied              26\n",
       "Min_K2O_applied               26\n",
       "Max_K2O_applied               26\n",
       "Mean_Emission_kg_N2O         1.1\n",
       "Min_Emission_kg_N2O          1.1\n",
       "Max_Emission_kg_N2O          1.1\n",
       "Mean_Emission_kg_NH3         6.0\n",
       "Min_Emission_kg_NH3          6.0\n",
       "Max_Emission_kg_NH3          6.0\n",
       "Mean_Emission_kg_NO3        66.5\n",
       "Min_Emission_kg_NO3         66.5\n",
       "Max_Emission_kg_NO3         66.5\n",
       "Mean_Emission_NOx       0.422118\n",
       "Min_Emission_NOx        0.422118\n",
       "Max_Emission_NOx        0.422118\n",
       "Mean_Emission_kg_P          1.15\n",
       "Min_Emission_kg_P           1.15\n",
       "Max_Emission_kg_P           1.15\n",
       "Name: (BEL, Grain maize, including corn cob maize), dtype: object"
      ]
     },
     "execution_count": 3,
     "metadata": {},
     "output_type": "execute_result"
    }
   ],
   "source": [
    "fert_data = obj.get_background_data_fert(lat_ui, lon_ui, crop_ui)\n",
    "fert_data"
   ]
  },
  {
   "cell_type": "code",
   "execution_count": 3,
   "id": "3cae65f3-85ff-4f0f-9211-f5a1e27bab88",
   "metadata": {},
   "outputs": [],
   "source": [
    "pest_data, pest_total = obj.get_background_data_pest(lat_ui, lon_ui, crop_ui)"
   ]
  },
  {
   "cell_type": "code",
   "execution_count": 4,
   "id": "2b1fed31-b4fd-4f60-a25f-2432e8b9e364",
   "metadata": {},
   "outputs": [
    {
     "data": {
      "text/plain": [
       "1.0338036784378346"
      ]
     },
     "execution_count": 4,
     "metadata": {},
     "output_type": "execute_result"
    }
   ],
   "source": [
    "pest_total"
   ]
  },
  {
   "cell_type": "code",
   "execution_count": 8,
   "id": "68564e2b-692a-4b01-b0fd-30d830a98a8b",
   "metadata": {},
   "outputs": [
    {
     "ename": "NameError",
     "evalue": "name 'country_from_coordinates' is not defined",
     "output_type": "error",
     "traceback": [
      "\u001b[1;31m---------------------------------------------------------------------------\u001b[0m",
      "\u001b[1;31mNameError\u001b[0m                                 Traceback (most recent call last)",
      "Cell \u001b[1;32mIn[8], line 1\u001b[0m\n\u001b[1;32m----> 1\u001b[0m yield_data \u001b[38;5;241m=\u001b[39m \u001b[43mobj\u001b[49m\u001b[38;5;241;43m.\u001b[39;49m\u001b[43mget_background_data_yield\u001b[49m\u001b[43m(\u001b[49m\u001b[43mlat_ui\u001b[49m\u001b[43m,\u001b[49m\u001b[43m \u001b[49m\u001b[43mlon_ui\u001b[49m\u001b[43m,\u001b[49m\u001b[43m \u001b[49m\u001b[43mcrop_ui\u001b[49m\u001b[43m)\u001b[49m\n\u001b[0;32m      2\u001b[0m yield_data\n",
      "File \u001b[1;32m~\\Documents\\PythonProjects\\SpringSchool\\calcey\\Calcey\\calcey\\functions_UI_to_BW.py:93\u001b[0m, in \u001b[0;36mcalcey.get_background_data_yield\u001b[1;34m(self, input_lat, input_lon, crop)\u001b[0m\n\u001b[0;32m     90\u001b[0m \u001b[38;5;28;01mdef\u001b[39;00m \u001b[38;5;21mget_background_data_yield\u001b[39m(\u001b[38;5;28mself\u001b[39m, input_lat: \u001b[38;5;28mfloat\u001b[39m, input_lon: \u001b[38;5;28mfloat\u001b[39m, crop: \u001b[38;5;28mstr\u001b[39m):\n\u001b[0;32m     91\u001b[0m     \u001b[38;5;66;03m# get yield data\u001b[39;00m\n\u001b[0;32m     92\u001b[0m     df \u001b[38;5;241m=\u001b[39m pd\u001b[38;5;241m.\u001b[39mread_csv(\u001b[38;5;124m\"\u001b[39m\u001b[38;5;124m../data/FAOSTAT_data_yield.csv\u001b[39m\u001b[38;5;124m\"\u001b[39m)\n\u001b[1;32m---> 93\u001b[0m     country \u001b[38;5;241m=\u001b[39m \u001b[43mcountry_from_coordinates\u001b[49m(Latitude\u001b[38;5;241m=\u001b[39minput_lat, Longitude\u001b[38;5;241m=\u001b[39minput_lon)\n\u001b[0;32m     94\u001b[0m     FAO_yield \u001b[38;5;241m=\u001b[39m \u001b[38;5;28mfloat\u001b[39m(df\u001b[38;5;241m.\u001b[39mloc[(df[\u001b[38;5;124m'\u001b[39m\u001b[38;5;124mArea\u001b[39m\u001b[38;5;124m'\u001b[39m] \u001b[38;5;241m==\u001b[39m country) \u001b[38;5;241m&\u001b[39m (df[\u001b[38;5;124m'\u001b[39m\u001b[38;5;124mYear\u001b[39m\u001b[38;5;124m'\u001b[39m] \u001b[38;5;241m==\u001b[39m \u001b[38;5;241m2022\u001b[39m) \u001b[38;5;241m&\u001b[39m (df[\u001b[38;5;124m'\u001b[39m\u001b[38;5;124mItem\u001b[39m\u001b[38;5;124m'\u001b[39m] \u001b[38;5;241m==\u001b[39m crop), \u001b[38;5;124m'\u001b[39m\u001b[38;5;124mValue\u001b[39m\u001b[38;5;124m'\u001b[39m]\u001b[38;5;241m.\u001b[39miloc[\u001b[38;5;241m0\u001b[39m])\n\u001b[0;32m     95\u001b[0m     \u001b[38;5;28;01mreturn\u001b[39;00m FAO_yield\n",
      "\u001b[1;31mNameError\u001b[0m: name 'country_from_coordinates' is not defined"
     ]
    }
   ],
   "source": [
    "yield_data = obj.get_background_data_yield(lat_ui, lon_ui, crop_ui)\n",
    "yield_data"
   ]
  },
  {
   "cell_type": "raw",
   "id": "08741455-c6c7-45b3-9e47-5e34a2ddc56f",
   "metadata": {},
   "source": [
    "crop_ui = \"Maize (corn)\"\n",
    "lat_ui = 46.81228 \n",
    "lon_ui = -71.21454\n",
    "\n",
    "file_path_map = \"../data/Mapping_data_Calcey.xlsx\"\n",
    "sheet_name_pest_map =\"Mapping_pesticides\"\n",
    "sheet_name_water_map =\"Mapping_water\"\n",
    "folder_path_pest_background = \"../data/NC_background_pest/\"\n",
    "folder_path_water_background = \"../data/NC_background_water/\"\n",
    "folder_path_yield = \"../data/\"\n",
    "file_name_yield = \"FAOSTAT_data_yield.csv\""
   ]
  },
  {
   "cell_type": "code",
   "execution_count": 9,
   "id": "6a3eed2b-e29a-4356-8689-0c8cdcd8ad47",
   "metadata": {},
   "outputs": [
    {
     "name": "stderr",
     "output_type": "stream",
     "text": [
      "C:\\Users\\Nico Mumm\\Documents\\PythonProjects\\SpringSchool\\calcey\\Calcey\\calcey\\functions_UI_to_BW.py:53: FutureWarning: Series.__getitem__ treating keys as positions is deprecated. In a future version, integer keys will always be treated as labels (consistent with DataFrame behavior). To access a value by position, use `ser.iloc[pos]`\n",
      "  country_proxy_ISO3 = country_mapping_file.loc[country_ISO3,\"iso3_nearest\"][0]\n"
     ]
    },
    {
     "data": {
      "text/plain": [
       "Country                BOLIVIA\n",
       "Mean_N_applied           555.6\n",
       "Min_N_applied            555.6\n",
       "Max_N_applied            555.6\n",
       "Mean_P2O5_applied    13.001377\n",
       "Min_P2O5_applied     13.001377\n",
       "Max_P2O5_applied     13.001377\n",
       "Mean_K2O_applied      6.304337\n",
       "Min_K2O_applied       6.304337\n",
       "Max_K2O_applied       6.304337\n",
       "Name: (BOL, Wheat), dtype: object"
      ]
     },
     "execution_count": 9,
     "metadata": {},
     "output_type": "execute_result"
    }
   ],
   "source": [
    "fert_array = get_background_data_fert(Latitude=lat_ui, Longitude=lon_ui, crop=crop_ui)\n",
    "fert_array"
   ]
  },
  {
   "cell_type": "code",
   "execution_count": null,
   "id": "1110b11c-dd38-432c-b336-921976603a0d",
   "metadata": {},
   "outputs": [],
   "source": [
    "obj =\n",
    "obj.execute()"
   ]
  },
  {
   "cell_type": "code",
   "execution_count": 3,
   "id": "fdccec9f-8b0a-49d5-85db-608c5dcab653",
   "metadata": {},
   "outputs": [
    {
     "data": {
      "text/html": [
       "<div>\n",
       "<style scoped>\n",
       "    .dataframe tbody tr th:only-of-type {\n",
       "        vertical-align: middle;\n",
       "    }\n",
       "\n",
       "    .dataframe tbody tr th {\n",
       "        vertical-align: top;\n",
       "    }\n",
       "\n",
       "    .dataframe thead th {\n",
       "        text-align: right;\n",
       "    }\n",
       "</style>\n",
       "<table border=\"1\" class=\"dataframe\">\n",
       "  <thead>\n",
       "    <tr style=\"text-align: right;\">\n",
       "      <th></th>\n",
       "      <th>pesticide_name</th>\n",
       "      <th>value</th>\n",
       "    </tr>\n",
       "  </thead>\n",
       "  <tbody>\n",
       "    <tr>\n",
       "      <th>0</th>\n",
       "      <td>2,4-D</td>\n",
       "      <td>0.008820</td>\n",
       "    </tr>\n",
       "    <tr>\n",
       "      <th>1</th>\n",
       "      <td>ACETOCHLOR</td>\n",
       "      <td>0.000000</td>\n",
       "    </tr>\n",
       "    <tr>\n",
       "      <th>2</th>\n",
       "      <td>ALACHLOR</td>\n",
       "      <td>0.000000</td>\n",
       "    </tr>\n",
       "    <tr>\n",
       "      <th>3</th>\n",
       "      <td>ATRAZINE</td>\n",
       "      <td>0.000000</td>\n",
       "    </tr>\n",
       "    <tr>\n",
       "      <th>4</th>\n",
       "      <td>CHLORPYRIFOS</td>\n",
       "      <td>0.044748</td>\n",
       "    </tr>\n",
       "    <tr>\n",
       "      <th>5</th>\n",
       "      <td>CLOPYRALID</td>\n",
       "      <td>0.005065</td>\n",
       "    </tr>\n",
       "    <tr>\n",
       "      <th>6</th>\n",
       "      <td>DICAMBA</td>\n",
       "      <td>0.013160</td>\n",
       "    </tr>\n",
       "    <tr>\n",
       "      <th>7</th>\n",
       "      <td>DIMETHENAMID-P</td>\n",
       "      <td>0.098882</td>\n",
       "    </tr>\n",
       "    <tr>\n",
       "      <th>8</th>\n",
       "      <td>EPTC</td>\n",
       "      <td>0.000278</td>\n",
       "    </tr>\n",
       "    <tr>\n",
       "      <th>9</th>\n",
       "      <td>GLUFOSINATE</td>\n",
       "      <td>0.009802</td>\n",
       "    </tr>\n",
       "    <tr>\n",
       "      <th>10</th>\n",
       "      <td>GLYPHOSATE</td>\n",
       "      <td>0.612634</td>\n",
       "    </tr>\n",
       "    <tr>\n",
       "      <th>11</th>\n",
       "      <td>MESOTRIONE</td>\n",
       "      <td>0.016134</td>\n",
       "    </tr>\n",
       "    <tr>\n",
       "      <th>12</th>\n",
       "      <td>METOLACHLOR-S</td>\n",
       "      <td>0.199278</td>\n",
       "    </tr>\n",
       "    <tr>\n",
       "      <th>13</th>\n",
       "      <td>METOLACHLOR</td>\n",
       "      <td>0.000000</td>\n",
       "    </tr>\n",
       "    <tr>\n",
       "      <th>14</th>\n",
       "      <td>PARAQUAT</td>\n",
       "      <td>0.000000</td>\n",
       "    </tr>\n",
       "    <tr>\n",
       "      <th>15</th>\n",
       "      <td>PENDIMETHALIN</td>\n",
       "      <td>0.025002</td>\n",
       "    </tr>\n",
       "    <tr>\n",
       "      <th>16</th>\n",
       "      <td>PROPARGITE</td>\n",
       "      <td>0.000000</td>\n",
       "    </tr>\n",
       "    <tr>\n",
       "      <th>17</th>\n",
       "      <td>SIMAZINE</td>\n",
       "      <td>0.000000</td>\n",
       "    </tr>\n",
       "    <tr>\n",
       "      <th>18</th>\n",
       "      <td>TERBUFOS</td>\n",
       "      <td>0.000000</td>\n",
       "    </tr>\n",
       "  </tbody>\n",
       "</table>\n",
       "</div>"
      ],
      "text/plain": [
       "    pesticide_name     value\n",
       "0            2,4-D  0.008820\n",
       "1       ACETOCHLOR  0.000000\n",
       "2         ALACHLOR  0.000000\n",
       "3         ATRAZINE  0.000000\n",
       "4     CHLORPYRIFOS  0.044748\n",
       "5       CLOPYRALID  0.005065\n",
       "6          DICAMBA  0.013160\n",
       "7   DIMETHENAMID-P  0.098882\n",
       "8             EPTC  0.000278\n",
       "9      GLUFOSINATE  0.009802\n",
       "10      GLYPHOSATE  0.612634\n",
       "11      MESOTRIONE  0.016134\n",
       "12   METOLACHLOR-S  0.199278\n",
       "13     METOLACHLOR  0.000000\n",
       "14        PARAQUAT  0.000000\n",
       "15   PENDIMETHALIN  0.025002\n",
       "16      PROPARGITE  0.000000\n",
       "17        SIMAZINE  0.000000\n",
       "18        TERBUFOS  0.000000"
      ]
     },
     "execution_count": 3,
     "metadata": {},
     "output_type": "execute_result"
    }
   ],
   "source": [
    "\n",
    "df_pest = get_background_data_pest(input_lat=lat_ui, input_lon=lon_ui, crop=crop_ui)\n",
    "df_pest"
   ]
  },
  {
   "cell_type": "code",
   "execution_count": 11,
   "id": "57168417-fc4d-42d9-8430-e1121fceeef5",
   "metadata": {},
   "outputs": [
    {
     "data": {
      "text/html": [
       "<div>\n",
       "<style scoped>\n",
       "    .dataframe tbody tr th:only-of-type {\n",
       "        vertical-align: middle;\n",
       "    }\n",
       "\n",
       "    .dataframe tbody tr th {\n",
       "        vertical-align: top;\n",
       "    }\n",
       "\n",
       "    .dataframe thead th {\n",
       "        text-align: right;\n",
       "    }\n",
       "</style>\n",
       "<table border=\"1\" class=\"dataframe\">\n",
       "  <thead>\n",
       "    <tr style=\"text-align: right;\">\n",
       "      <th></th>\n",
       "      <th>water_footprint</th>\n",
       "      <th>value</th>\n",
       "    </tr>\n",
       "  </thead>\n",
       "  <tbody>\n",
       "    <tr>\n",
       "      <th>0</th>\n",
       "      <td>average_2010_2019</td>\n",
       "      <td>143.891724</td>\n",
       "    </tr>\n",
       "  </tbody>\n",
       "</table>\n",
       "</div>"
      ],
      "text/plain": [
       "     water_footprint       value\n",
       "0  average_2010_2019  143.891724"
      ]
     },
     "execution_count": 11,
     "metadata": {},
     "output_type": "execute_result"
    }
   ],
   "source": [
    "df_water = get_background_data_water(input_lat=lat_ui, input_lon=lon_ui, crop=crop_ui)\n",
    "df_water"
   ]
  },
  {
   "cell_type": "code",
   "execution_count": 12,
   "id": "363509bd-0745-44c1-8ac9-c338643a6b91",
   "metadata": {},
   "outputs": [
    {
     "data": {
      "text/plain": [
       "74701.0"
      ]
     },
     "execution_count": 12,
     "metadata": {},
     "output_type": "execute_result"
    }
   ],
   "source": [
    "FAO_yield = get_background_data_yield(input_lat=lat_ui, input_lon=lon_ui, crop=crop_ui)\n",
    "FAO_yield"
   ]
  },
  {
   "cell_type": "code",
   "execution_count": null,
   "id": "a82d0814-1651-4848-ae5b-bc48f522e34d",
   "metadata": {},
   "outputs": [],
   "source": [
    "df_proxy_loc_fert = pd.read_excel(folder+file_loc_fert_mapping, sheet_name = \"Mapping_nearest_neighbor\", index_col = 2)\n",
    "df_proxy_crop_fert = pd.read_excel(folder+mapping_file, sheet_name = \"Mapping_Fertilizer\", index_col = 0)\n",
    "df_amount_fert_crop_country = pd.read_excel(folder+fertilizer_amount_file)\n",
    "df_amount_fert_crop_country = df_amount_fert_crop_country.set_index([\"Country_ISO3\",\"Crop\"])"
   ]
  }
 ],
 "metadata": {
  "kernelspec": {
   "display_name": "Python 3 (ipykernel)",
   "language": "python",
   "name": "python3"
  },
  "language_info": {
   "codemirror_mode": {
    "name": "ipython",
    "version": 3
   },
   "file_extension": ".py",
   "mimetype": "text/x-python",
   "name": "python",
   "nbconvert_exporter": "python",
   "pygments_lexer": "ipython3",
   "version": "3.11.9"
  }
 },
 "nbformat": 4,
 "nbformat_minor": 5
}
