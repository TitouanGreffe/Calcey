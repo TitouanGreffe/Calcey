{
 "cells": [
  {
   "cell_type": "code",
   "execution_count": 1,
   "id": "b834eb95-1f93-4920-8597-e10b58dc1b5c",
   "metadata": {},
   "outputs": [],
   "source": [
    "import pandas as pd\n",
    "from osgeo import gdal\n",
    "import netCDF4\n",
    "import numpy as np\n",
    "import os\n",
    "# import geowombat as gw\n",
    "# from geowombat.data import rgbn"
   ]
  },
  {
   "cell_type": "markdown",
   "id": "b138c0d9-0a6c-4a02-9e80-0d045fc3d8d6",
   "metadata": {},
   "source": [
    "# load raster information"
   ]
  },
  {
   "cell_type": "markdown",
   "id": "ee865ba4-4d34-4e80-a885-648867934750",
   "metadata": {},
   "source": [
    "## test case for one "
   ]
  },
  {
   "cell_type": "code",
   "execution_count": 4,
   "id": "2d8ec262-beff-46aa-8e5e-07b836796293",
   "metadata": {},
   "outputs": [
    {
     "data": {
      "text/plain": [
       "<class 'netCDF4._netCDF4.Dataset'>\n",
       "root group (NETCDF4_CLASSIC data model, file format HDF5):\n",
       "    Creation date: 15-Dec-2022 14:44:04\n",
       "    Authors: F. Maggi, F.H.M. Tang, T.H. Nguyen\n",
       "    Version: v2\n",
       "    dimensions(sizes): lon(7200), lat(3600), year(2)\n",
       "    variables(dimensions): float32 lon(lon), float32 lat(lat), float32 year(year), float32 apr_H(year, lat, lon), float32 apr_L(year, lat, lon)\n",
       "    groups: "
      ]
     },
     "execution_count": 4,
     "metadata": {},
     "output_type": "execute_result"
    }
   ],
   "source": [
    "filepath = \"../data/NC/PEST-CHEMGRIDSv2_Alfalfa_2,4-D.nc\"\n",
    "ds = netCDF4.Dataset(filepath)\n",
    "ds"
   ]
  },
  {
   "cell_type": "code",
   "execution_count": 5,
   "id": "05e3a1fa-cfa5-4567-89ec-2847e02c4621",
   "metadata": {},
   "outputs": [
    {
     "data": {
      "text/plain": [
       "['lon', 'lat', 'year', 'apr_H', 'apr_L']"
      ]
     },
     "execution_count": 5,
     "metadata": {},
     "output_type": "execute_result"
    }
   ],
   "source": [
    "list(ds.variables)"
   ]
  },
  {
   "cell_type": "code",
   "execution_count": 7,
   "id": "c44f00fa-d52b-43a8-9150-4dc43b747072",
   "metadata": {},
   "outputs": [
    {
     "data": {
      "text/plain": [
       "masked_array(data=[-179.975, -179.925, -179.875, ...,  179.875,  179.925,\n",
       "                    179.975],\n",
       "             mask=False,\n",
       "       fill_value=1e+20,\n",
       "            dtype=float32)"
      ]
     },
     "execution_count": 7,
     "metadata": {},
     "output_type": "execute_result"
    }
   ],
   "source": [
    "ds.variables['lon'][:]"
   ]
  },
  {
   "cell_type": "code",
   "execution_count": 7,
   "id": "ac27dd31-1b1c-4364-8dc7-0faab41fe836",
   "metadata": {},
   "outputs": [
    {
     "data": {
      "text/plain": [
       "masked_array(data=[2015., 2018.],\n",
       "             mask=False,\n",
       "       fill_value=1e+20,\n",
       "            dtype=float32)"
      ]
     },
     "execution_count": 7,
     "metadata": {},
     "output_type": "execute_result"
    }
   ],
   "source": [
    "ds.variables['year'][:]"
   ]
  },
  {
   "cell_type": "code",
   "execution_count": 8,
   "id": "5292ab3d-aa3e-4a47-b35f-64d6215a029e",
   "metadata": {},
   "outputs": [],
   "source": [
    "input_lat = 46.81228 \n",
    "input_lon = -71.21454"
   ]
  },
  {
   "cell_type": "code",
   "execution_count": 35,
   "id": "4539837d-7755-4a0e-a3cb-7d34bf5d54ce",
   "metadata": {},
   "outputs": [],
   "source": [
    "raster_data = ds.variables['apr_H'][:]"
   ]
  },
  {
   "cell_type": "code",
   "execution_count": 12,
   "id": "23b8cd13-1212-4efb-a944-aa337e35336b",
   "metadata": {},
   "outputs": [],
   "source": [
    "lat_var = ds.variables['lat'][:]\n",
    "lon_var = ds.variables['lon'][:]"
   ]
  },
  {
   "cell_type": "code",
   "execution_count": 16,
   "id": "20c2b54c-aa11-4baf-b054-e5ebdf4a01c3",
   "metadata": {},
   "outputs": [],
   "source": [
    "lat_idx = np.argmin(np.abs(lat_var - input_lat))\n",
    "lon_idx = np.argmin(np.abs(lon_var - input_lon))"
   ]
  },
  {
   "cell_type": "code",
   "execution_count": 39,
   "id": "72f2dbb0-2ad5-4d81-b2a3-78fd4243945f",
   "metadata": {},
   "outputs": [],
   "source": [
    "layer0_data = raster_data.data[0]"
   ]
  },
  {
   "cell_type": "code",
   "execution_count": 40,
   "id": "7f6ec087-e700-405c-89f0-cedcfd2fd404",
   "metadata": {},
   "outputs": [
    {
     "data": {
      "text/plain": [
       "0.003327197"
      ]
     },
     "execution_count": 40,
     "metadata": {},
     "output_type": "execute_result"
    }
   ],
   "source": [
    "local_value = layer0_data[lat_idx, lon_idx]\n",
    "local_value"
   ]
  },
  {
   "cell_type": "markdown",
   "id": "8edc2564-40e2-4f7f-b40d-5a1da56c3a50",
   "metadata": {},
   "source": [
    "## scale up for all pestchemgrids"
   ]
  },
  {
   "cell_type": "code",
   "execution_count": 19,
   "id": "685c431b-81b2-4924-82a0-2c8df91528ee",
   "metadata": {},
   "outputs": [],
   "source": [
    "df_list = []"
   ]
  },
  {
   "cell_type": "code",
   "execution_count": 20,
   "id": "ac0460f0-1c5b-4108-adaa-ba8b9ddafcfd",
   "metadata": {},
   "outputs": [],
   "source": [
    "input_lat = 46.81228 \n",
    "input_lon = -71.21454"
   ]
  },
  {
   "cell_type": "code",
   "execution_count": 21,
   "id": "f7acc196-1b7d-40f5-bd43-c24e26e3d81f",
   "metadata": {},
   "outputs": [
    {
     "name": "stderr",
     "output_type": "stream",
     "text": [
      "C:\\Users\\Nico Mumm\\AppData\\Local\\Temp\\ipykernel_28256\\2304897724.py:43: FutureWarning: The behavior of DataFrame concatenation with empty or all-NA entries is deprecated. In a future version, this will no longer exclude empty or all-NA columns when determining the result dtypes. To retain the old behavior, exclude the relevant entries before the concat operation.\n",
      "  df = pd.concat(df_list, ignore_index=True)\n"
     ]
    }
   ],
   "source": [
    "path_to_folder = '../data/NC/'\n",
    "for filename in os.listdir(path_to_folder):\n",
    "    # Check if the file is a .nc file\n",
    "    if filename.endswith('.nc'):\n",
    "        # Open the file\n",
    "        ds = netCDF4.Dataset(path_to_folder + filename, 'r')\n",
    "\n",
    "        # identify the correct grid element\n",
    "        lat_var = ds.variables['lat'][:]\n",
    "        lon_var = ds.variables['lon'][:]\n",
    "        lat_idx = np.argmin(np.abs(lat_var - input_lat))\n",
    "        lon_idx = np.argmin(np.abs(lon_var - input_lon))\n",
    "\n",
    "        try:\n",
    "            # Get the raster data (assuming it's in the same variable)\n",
    "            high_est = ds.variables['apr_H'][:].data[1]\n",
    "\n",
    "            # Get the local value (using the same lat and lon coordinates)\n",
    "            local_high_value = high_est[lat_idx, lon_idx]\n",
    "        except KeyError:\n",
    "            local_high_value = np.NaN\n",
    "\n",
    "        try:\n",
    "            # Get the raster data (assuming it's in the same variable)\n",
    "            low_est = ds.variables['apr_L'][:].data[1]\n",
    "\n",
    "            # Get the local value (using the same lat and lon coordinates)\n",
    "            local_low_value = low_est[lat_idx, lon_idx]\n",
    "        except KeyError:\n",
    "            local_low_value = np.NaN\n",
    "            \n",
    "        \n",
    "        # Create a new DataFrame for each iteration\n",
    "        new_df = pd.DataFrame({'filename': [filename], 'local_high_value': [local_high_value], 'local_low_value': [local_low_value]})\n",
    "\n",
    "        # Append the new DataFrame to the list\n",
    "        df_list.append(new_df)\n",
    "        \n",
    "        # Close the file\n",
    "        ds.close()\n",
    "\n",
    "# Concatenate the DataFrames in the list\n",
    "df = pd.concat(df_list, ignore_index=True)"
   ]
  },
  {
   "cell_type": "code",
   "execution_count": 36,
   "id": "a7f67a3a-1553-4916-bea4-ef1a737b58b4",
   "metadata": {},
   "outputs": [
    {
     "data": {
      "text/html": [
       "<div>\n",
       "<style scoped>\n",
       "    .dataframe tbody tr th:only-of-type {\n",
       "        vertical-align: middle;\n",
       "    }\n",
       "\n",
       "    .dataframe tbody tr th {\n",
       "        vertical-align: top;\n",
       "    }\n",
       "\n",
       "    .dataframe thead th {\n",
       "        text-align: right;\n",
       "    }\n",
       "</style>\n",
       "<table border=\"1\" class=\"dataframe\">\n",
       "  <thead>\n",
       "    <tr style=\"text-align: right;\">\n",
       "      <th></th>\n",
       "      <th>filename</th>\n",
       "      <th>local_high_value</th>\n",
       "      <th>local_low_value</th>\n",
       "      <th>crop_name</th>\n",
       "      <th>pesticide_name</th>\n",
       "    </tr>\n",
       "  </thead>\n",
       "  <tbody>\n",
       "    <tr>\n",
       "      <th>0</th>\n",
       "      <td>PEST-CHEMGRIDSv2_Alfalfa_2,4-D.nc</td>\n",
       "      <td>0.042004</td>\n",
       "      <td>0.013462</td>\n",
       "      <td></td>\n",
       "      <td>Alfalfa_2,4-D.nc</td>\n",
       "    </tr>\n",
       "    <tr>\n",
       "      <th>1</th>\n",
       "      <td>PEST-CHEMGRIDSv2_Alfalfa_2,4-DB.nc</td>\n",
       "      <td>0.021011</td>\n",
       "      <td>0.020942</td>\n",
       "      <td></td>\n",
       "      <td>Alfalfa_2,4-DB.nc</td>\n",
       "    </tr>\n",
       "    <tr>\n",
       "      <th>2</th>\n",
       "      <td>PEST-CHEMGRIDSv2_Alfalfa_CARBARYL.nc</td>\n",
       "      <td>0.005422</td>\n",
       "      <td>0.002165</td>\n",
       "      <td></td>\n",
       "      <td>Alfalfa_CARBARYL.nc</td>\n",
       "    </tr>\n",
       "    <tr>\n",
       "      <th>3</th>\n",
       "      <td>PEST-CHEMGRIDSv2_Alfalfa_CHLORPYRIFOS.nc</td>\n",
       "      <td>0.190494</td>\n",
       "      <td>0.186592</td>\n",
       "      <td></td>\n",
       "      <td>Alfalfa_CHLORPYRIFOS.nc</td>\n",
       "    </tr>\n",
       "    <tr>\n",
       "      <th>4</th>\n",
       "      <td>PEST-CHEMGRIDSv2_Alfalfa_CLETHODIM.nc</td>\n",
       "      <td>0.006767</td>\n",
       "      <td>0.001713</td>\n",
       "      <td></td>\n",
       "      <td>Alfalfa_CLETHODIM.nc</td>\n",
       "    </tr>\n",
       "    <tr>\n",
       "      <th>...</th>\n",
       "      <td>...</td>\n",
       "      <td>...</td>\n",
       "      <td>...</td>\n",
       "      <td>...</td>\n",
       "      <td>...</td>\n",
       "    </tr>\n",
       "    <tr>\n",
       "      <th>265</th>\n",
       "      <td>PEST-CHEMGRIDSv2_Wheat_PYROXASULFONE.nc</td>\n",
       "      <td>0.066561</td>\n",
       "      <td>0.027406</td>\n",
       "      <td></td>\n",
       "      <td>Wheat_PYROXASULFONE.nc</td>\n",
       "    </tr>\n",
       "    <tr>\n",
       "      <th>266</th>\n",
       "      <td>PEST-CHEMGRIDSv2_Wheat_SULFUR.nc</td>\n",
       "      <td>0.006522</td>\n",
       "      <td>0.006300</td>\n",
       "      <td></td>\n",
       "      <td>Wheat_SULFUR.nc</td>\n",
       "    </tr>\n",
       "    <tr>\n",
       "      <th>267</th>\n",
       "      <td>PEST-CHEMGRIDSv2_Wheat_TEBUCONAZOLE.nc</td>\n",
       "      <td>0.078309</td>\n",
       "      <td>0.078033</td>\n",
       "      <td></td>\n",
       "      <td>Wheat_TEBUCONAZOLE.nc</td>\n",
       "    </tr>\n",
       "    <tr>\n",
       "      <th>268</th>\n",
       "      <td>PEST-CHEMGRIDSv2_Wheat_THIFENSULFURON.nc</td>\n",
       "      <td>0.017334</td>\n",
       "      <td>0.016608</td>\n",
       "      <td></td>\n",
       "      <td>Wheat_THIFENSULFURON.nc</td>\n",
       "    </tr>\n",
       "    <tr>\n",
       "      <th>269</th>\n",
       "      <td>PEST-CHEMGRIDSv2_Wheat_TRIFLOXYSTROBIN.nc</td>\n",
       "      <td>0.003122</td>\n",
       "      <td>0.001572</td>\n",
       "      <td></td>\n",
       "      <td>Wheat_TRIFLOXYSTROBIN.nc</td>\n",
       "    </tr>\n",
       "  </tbody>\n",
       "</table>\n",
       "<p>270 rows × 5 columns</p>\n",
       "</div>"
      ],
      "text/plain": [
       "                                      filename  local_high_value  \\\n",
       "0            PEST-CHEMGRIDSv2_Alfalfa_2,4-D.nc          0.042004   \n",
       "1           PEST-CHEMGRIDSv2_Alfalfa_2,4-DB.nc          0.021011   \n",
       "2         PEST-CHEMGRIDSv2_Alfalfa_CARBARYL.nc          0.005422   \n",
       "3     PEST-CHEMGRIDSv2_Alfalfa_CHLORPYRIFOS.nc          0.190494   \n",
       "4        PEST-CHEMGRIDSv2_Alfalfa_CLETHODIM.nc          0.006767   \n",
       "..                                         ...               ...   \n",
       "265    PEST-CHEMGRIDSv2_Wheat_PYROXASULFONE.nc          0.066561   \n",
       "266           PEST-CHEMGRIDSv2_Wheat_SULFUR.nc          0.006522   \n",
       "267     PEST-CHEMGRIDSv2_Wheat_TEBUCONAZOLE.nc          0.078309   \n",
       "268   PEST-CHEMGRIDSv2_Wheat_THIFENSULFURON.nc          0.017334   \n",
       "269  PEST-CHEMGRIDSv2_Wheat_TRIFLOXYSTROBIN.nc          0.003122   \n",
       "\n",
       "     local_low_value crop_name            pesticide_name  \n",
       "0           0.013462                    Alfalfa_2,4-D.nc  \n",
       "1           0.020942                   Alfalfa_2,4-DB.nc  \n",
       "2           0.002165                 Alfalfa_CARBARYL.nc  \n",
       "3           0.186592             Alfalfa_CHLORPYRIFOS.nc  \n",
       "4           0.001713                Alfalfa_CLETHODIM.nc  \n",
       "..               ...       ...                       ...  \n",
       "265         0.027406              Wheat_PYROXASULFONE.nc  \n",
       "266         0.006300                     Wheat_SULFUR.nc  \n",
       "267         0.078033               Wheat_TEBUCONAZOLE.nc  \n",
       "268         0.016608             Wheat_THIFENSULFURON.nc  \n",
       "269         0.001572            Wheat_TRIFLOXYSTROBIN.nc  \n",
       "\n",
       "[270 rows x 5 columns]"
      ]
     },
     "execution_count": 36,
     "metadata": {},
     "output_type": "execute_result"
    }
   ],
   "source": [
    "df"
   ]
  },
  {
   "cell_type": "code",
   "execution_count": 39,
   "id": "899d58c9-5e7c-4ce7-8912-565ad123c78a",
   "metadata": {},
   "outputs": [],
   "source": [
    "df[['source', 'crop_name', 'pesticide_name']] = df['filename'].str.split('_', n=2, expand=True)\n",
    "# df['pesticide_name'] = df['pesticide_name'].str.split('.nc', n=1, expand=True)[0]"
   ]
  },
  {
   "cell_type": "code",
   "execution_count": 41,
   "id": "79658d01-23b6-4f63-b9c5-d5ba372dd394",
   "metadata": {},
   "outputs": [],
   "source": [
    "df['pesticide_name'] = df['pesticide_name'].str.rstrip('.nc')"
   ]
  },
  {
   "cell_type": "code",
   "execution_count": 43,
   "id": "4ccfa042-5a39-4a5b-b34c-21690a770d6d",
   "metadata": {},
   "outputs": [],
   "source": [
    "df = df.drop(['filename', 'source'], axis=1)"
   ]
  },
  {
   "cell_type": "code",
   "execution_count": 45,
   "id": "f1e39187-a93c-479a-91a2-10f9da381401",
   "metadata": {},
   "outputs": [
    {
     "data": {
      "text/html": [
       "<div>\n",
       "<style scoped>\n",
       "    .dataframe tbody tr th:only-of-type {\n",
       "        vertical-align: middle;\n",
       "    }\n",
       "\n",
       "    .dataframe tbody tr th {\n",
       "        vertical-align: top;\n",
       "    }\n",
       "\n",
       "    .dataframe thead th {\n",
       "        text-align: right;\n",
       "    }\n",
       "</style>\n",
       "<table border=\"1\" class=\"dataframe\">\n",
       "  <thead>\n",
       "    <tr style=\"text-align: right;\">\n",
       "      <th></th>\n",
       "      <th>crop_name</th>\n",
       "      <th>pesticide_name</th>\n",
       "      <th>local_low_value</th>\n",
       "      <th>local_high_value</th>\n",
       "    </tr>\n",
       "  </thead>\n",
       "  <tbody>\n",
       "    <tr>\n",
       "      <th>0</th>\n",
       "      <td>Alfalfa</td>\n",
       "      <td>2,4-D</td>\n",
       "      <td>0.013462</td>\n",
       "      <td>0.042004</td>\n",
       "    </tr>\n",
       "    <tr>\n",
       "      <th>1</th>\n",
       "      <td>Alfalfa</td>\n",
       "      <td>2,4-DB</td>\n",
       "      <td>0.020942</td>\n",
       "      <td>0.021011</td>\n",
       "    </tr>\n",
       "    <tr>\n",
       "      <th>2</th>\n",
       "      <td>Alfalfa</td>\n",
       "      <td>CARBARYL</td>\n",
       "      <td>0.002165</td>\n",
       "      <td>0.005422</td>\n",
       "    </tr>\n",
       "    <tr>\n",
       "      <th>3</th>\n",
       "      <td>Alfalfa</td>\n",
       "      <td>CHLORPYRIFOS</td>\n",
       "      <td>0.186592</td>\n",
       "      <td>0.190494</td>\n",
       "    </tr>\n",
       "    <tr>\n",
       "      <th>4</th>\n",
       "      <td>Alfalfa</td>\n",
       "      <td>CLETHODIM</td>\n",
       "      <td>0.001713</td>\n",
       "      <td>0.006767</td>\n",
       "    </tr>\n",
       "    <tr>\n",
       "      <th>...</th>\n",
       "      <td>...</td>\n",
       "      <td>...</td>\n",
       "      <td>...</td>\n",
       "      <td>...</td>\n",
       "    </tr>\n",
       "    <tr>\n",
       "      <th>265</th>\n",
       "      <td>Wheat</td>\n",
       "      <td>PYROXASULFONE</td>\n",
       "      <td>0.027406</td>\n",
       "      <td>0.066561</td>\n",
       "    </tr>\n",
       "    <tr>\n",
       "      <th>266</th>\n",
       "      <td>Wheat</td>\n",
       "      <td>SULFUR</td>\n",
       "      <td>0.006300</td>\n",
       "      <td>0.006522</td>\n",
       "    </tr>\n",
       "    <tr>\n",
       "      <th>267</th>\n",
       "      <td>Wheat</td>\n",
       "      <td>TEBUCONAZOLE</td>\n",
       "      <td>0.078033</td>\n",
       "      <td>0.078309</td>\n",
       "    </tr>\n",
       "    <tr>\n",
       "      <th>268</th>\n",
       "      <td>Wheat</td>\n",
       "      <td>THIFENSULFURON</td>\n",
       "      <td>0.016608</td>\n",
       "      <td>0.017334</td>\n",
       "    </tr>\n",
       "    <tr>\n",
       "      <th>269</th>\n",
       "      <td>Wheat</td>\n",
       "      <td>TRIFLOXYSTROBIN</td>\n",
       "      <td>0.001572</td>\n",
       "      <td>0.003122</td>\n",
       "    </tr>\n",
       "  </tbody>\n",
       "</table>\n",
       "<p>270 rows × 4 columns</p>\n",
       "</div>"
      ],
      "text/plain": [
       "    crop_name   pesticide_name  local_low_value  local_high_value\n",
       "0     Alfalfa            2,4-D         0.013462          0.042004\n",
       "1     Alfalfa           2,4-DB         0.020942          0.021011\n",
       "2     Alfalfa         CARBARYL         0.002165          0.005422\n",
       "3     Alfalfa     CHLORPYRIFOS         0.186592          0.190494\n",
       "4     Alfalfa        CLETHODIM         0.001713          0.006767\n",
       "..        ...              ...              ...               ...\n",
       "265     Wheat    PYROXASULFONE         0.027406          0.066561\n",
       "266     Wheat           SULFUR         0.006300          0.006522\n",
       "267     Wheat     TEBUCONAZOLE         0.078033          0.078309\n",
       "268     Wheat   THIFENSULFURON         0.016608          0.017334\n",
       "269     Wheat  TRIFLOXYSTROBIN         0.001572          0.003122\n",
       "\n",
       "[270 rows x 4 columns]"
      ]
     },
     "execution_count": 45,
     "metadata": {},
     "output_type": "execute_result"
    }
   ],
   "source": [
    "df = df.loc[:, ['crop_name', 'pesticide_name', 'local_low_value', 'local_high_value']]\n",
    "df"
   ]
  },
  {
   "cell_type": "code",
   "execution_count": 47,
   "id": "a6cdc273-df9b-493e-bb87-cde2ae4d5dab",
   "metadata": {},
   "outputs": [],
   "source": [
    "df.to_csv(\"../data/pesticide_application_quebec_city.csv\")"
   ]
  }
 ],
 "metadata": {
  "kernelspec": {
   "display_name": "Python 3 (ipykernel)",
   "language": "python",
   "name": "python3"
  },
  "language_info": {
   "codemirror_mode": {
    "name": "ipython",
    "version": 3
   },
   "file_extension": ".py",
   "mimetype": "text/x-python",
   "name": "python",
   "nbconvert_exporter": "python",
   "pygments_lexer": "ipython3",
   "version": "3.11.9"
  }
 },
 "nbformat": 4,
 "nbformat_minor": 5
}
