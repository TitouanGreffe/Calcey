{
 "cells": [
  {
   "cell_type": "code",
   "execution_count": 2,
   "id": "4e630597-4e7f-455e-9388-4dee7e04d544",
   "metadata": {},
   "outputs": [],
   "source": [
    "import pandas as pd\n",
    "from osgeo import gdal\n",
    "import netCDF4\n",
    "import numpy as np\n",
    "import os\n",
    "# import geowombat as gw\n",
    "# from geowombat.data import rgbn"
   ]
  },
  {
   "cell_type": "code",
   "execution_count": 38,
   "id": "1a2bc117-c0ae-41fc-9470-30448a75eea8",
   "metadata": {},
   "outputs": [
    {
     "data": {
      "text/plain": [
       "<class 'netCDF4._netCDF4.Dataset'>\n",
       "root group (NETCDF4 data model, file format HDF5):\n",
       "    title: Unit water footprints of potatoes (FAO code: 116) simulated with crop model ACEA\n",
       "    institution: University of Twente, Netherlands\n",
       "    contact: Mialyk Oleksandr (o.mialyk@utwente.nl)\n",
       "    dimensions(sizes): lat(2160), lon(4320)\n",
       "    variables(dimensions): float64 lon(lon), float64 lat(lat), float32 wf_unit_rainfed_green(lat, lon), float32 wf_unit_rainfed_blue(lat, lon), float32 wf_unit_irrigated_green(lat, lon), float32 wf_unit_irrigated_blue(lat, lon), float32 wf_unit_rainfed(lat, lon), float32 wf_unit_irrigated(lat, lon), float32 wf_unit_total(lat, lon)\n",
       "    groups: "
      ]
     },
     "execution_count": 38,
     "metadata": {},
     "output_type": "execute_result"
    }
   ],
   "source": [
    "filepath = \"../data/unit_wf_selected_crops_average_2010_2019/wf_unit_potatoes_average_2010_2019.nc\"\n",
    "ds = netCDF4.Dataset(filepath)\n",
    "ds"
   ]
  },
  {
   "cell_type": "code",
   "execution_count": 39,
   "id": "2a9a0474-8eac-4884-9cf6-35a44f02309e",
   "metadata": {},
   "outputs": [
    {
     "data": {
      "text/plain": [
       "['lon',\n",
       " 'lat',\n",
       " 'wf_unit_rainfed_green',\n",
       " 'wf_unit_rainfed_blue',\n",
       " 'wf_unit_irrigated_green',\n",
       " 'wf_unit_irrigated_blue',\n",
       " 'wf_unit_rainfed',\n",
       " 'wf_unit_irrigated',\n",
       " 'wf_unit_total']"
      ]
     },
     "execution_count": 39,
     "metadata": {},
     "output_type": "execute_result"
    }
   ],
   "source": [
    "list(ds.variables)"
   ]
  },
  {
   "cell_type": "code",
   "execution_count": 40,
   "id": "7c582e94-b780-4da6-b37a-c1bd82d6cd4e",
   "metadata": {},
   "outputs": [
    {
     "data": {
      "text/plain": [
       "array([1.e+20, 1.e+20, 1.e+20, ..., 1.e+20, 1.e+20, 1.e+20], dtype=float32)"
      ]
     },
     "execution_count": 40,
     "metadata": {},
     "output_type": "execute_result"
    }
   ],
   "source": [
    "ds.variables['wf_unit_irrigated_blue'][:].data[0]"
   ]
  },
  {
   "cell_type": "code",
   "execution_count": 53,
   "id": "89ca6148-a42c-4140-b849-76bb5a90e938",
   "metadata": {},
   "outputs": [],
   "source": [
    "input_lat = 32.123 \n",
    "input_lon = 61.783"
   ]
  },
  {
   "cell_type": "code",
   "execution_count": 54,
   "id": "fda94f6f-cba1-40bc-ac17-e1cd2ff7444b",
   "metadata": {},
   "outputs": [],
   "source": [
    "lat_var = ds.variables['lat'][:]\n",
    "lon_var = ds.variables['lon'][:]"
   ]
  },
  {
   "cell_type": "code",
   "execution_count": 55,
   "id": "3ec21d97-34ae-4448-ba5d-825ca86e1cf2",
   "metadata": {},
   "outputs": [],
   "source": [
    "lat_idx = np.argmin(np.abs(lat_var - input_lat))\n",
    "lon_idx = np.argmin(np.abs(lon_var - input_lon))"
   ]
  },
  {
   "cell_type": "code",
   "execution_count": 56,
   "id": "32697874-67fb-4e7a-860e-f956d41b3b14",
   "metadata": {},
   "outputs": [
    {
     "data": {
      "text/plain": [
       "623.37805"
      ]
     },
     "execution_count": 56,
     "metadata": {},
     "output_type": "execute_result"
    }
   ],
   "source": [
    "raster_data = ds.variables['wf_unit_irrigated_blue'][:].data\n",
    "local_value = raster_data[lat_idx, lon_idx]\n",
    "local_value"
   ]
  },
  {
   "cell_type": "code",
   "execution_count": 58,
   "id": "51f1655b-11db-4a08-abb7-ef9f52f17be9",
   "metadata": {},
   "outputs": [
    {
     "data": {
      "text/plain": [
       "623.37805"
      ]
     },
     "execution_count": 58,
     "metadata": {},
     "output_type": "execute_result"
    }
   ],
   "source": [
    "ds.variables['wf_unit_irrigated_blue'][:].data[lat_idx, lon_idx]"
   ]
  },
  {
   "cell_type": "code",
   "execution_count": 59,
   "id": "80d0fe54-d222-4e29-8130-d5a660859fa0",
   "metadata": {},
   "outputs": [],
   "source": [
    "indicator_list = ['wf_unit_rainfed_green',\n",
    "                     'wf_unit_rainfed_blue',\n",
    "                     'wf_unit_irrigated_green',\n",
    "                     'wf_unit_irrigated_blue',\n",
    "                     'wf_unit_rainfed',\n",
    "                     'wf_unit_irrigated',\n",
    "                     'wf_unit_total']"
   ]
  },
  {
   "cell_type": "code",
   "execution_count": 99,
   "id": "14e681d0-00fc-4e71-a364-7996dd2aff06",
   "metadata": {},
   "outputs": [],
   "source": [
    "dff_list = []\n",
    "df_list = []\n",
    "\n",
    "path_to_folder = '../data/unit_wf_selected_crops_average_2010_2019/'\n",
    "for filename in os.listdir(path_to_folder):\n",
    "    # Check if the file is a .nc file\n",
    "    if filename.endswith('.nc'):\n",
    "        # Open the file\n",
    "        ds = netCDF4.Dataset(path_to_folder + filename, 'r')\n",
    "\n",
    "        # identify the correct grid element\n",
    "        lat_var = ds.variables['lat'][:]\n",
    "        lon_var = ds.variables['lon'][:]\n",
    "        lat_idx = np.argmin(np.abs(lat_var - input_lat))\n",
    "        lon_idx = np.argmin(np.abs(lon_var - input_lon))\n",
    "\n",
    "        for ind in indicator_list:\n",
    "            try:\n",
    "                 # Get the local value (using the same lat and lon coordinates)\n",
    "                value = ds.variables[ind][:].data[lat_idx, lon_idx]\n",
    "            except KeyError:\n",
    "                value = np.NaN\n",
    "\n",
    "            # Create a new DataFrame for each iteration\n",
    "            new_dff = pd.DataFrame({'indicator': [ind], 'value': [value]})\n",
    "\n",
    "            dff_list.append(new_dff)\n",
    "\n",
    "        # Concatenate the DataFrames in the list\n",
    "        dff = pd.concat(dff_list, ignore_index=True)\n",
    "        \n",
    "        # Close the file\n",
    "        ds.close()\n",
    "       \n",
    "        # Create a new DataFrame for each iteration\n",
    "        dff['filename'] = filename    \n",
    "\n",
    "        # Append the new DataFrame to the list\n",
    "        df_list.append(dff)\n",
    "        \n",
    "\n",
    "# Concatenate the DataFrames in the list\n",
    "df = pd.concat(df_list, ignore_index=True)"
   ]
  },
  {
   "cell_type": "code",
   "execution_count": 100,
   "id": "1b09fe6c-500c-49cd-a9d0-6ef26283ea11",
   "metadata": {},
   "outputs": [
    {
     "data": {
      "text/html": [
       "<div>\n",
       "<style scoped>\n",
       "    .dataframe tbody tr th:only-of-type {\n",
       "        vertical-align: middle;\n",
       "    }\n",
       "\n",
       "    .dataframe tbody tr th {\n",
       "        vertical-align: top;\n",
       "    }\n",
       "\n",
       "    .dataframe thead th {\n",
       "        text-align: right;\n",
       "    }\n",
       "</style>\n",
       "<table border=\"1\" class=\"dataframe\">\n",
       "  <thead>\n",
       "    <tr style=\"text-align: right;\">\n",
       "      <th></th>\n",
       "      <th>indicator</th>\n",
       "      <th>value</th>\n",
       "      <th>filename</th>\n",
       "      <th>crop_name</th>\n",
       "    </tr>\n",
       "  </thead>\n",
       "  <tbody>\n",
       "    <tr>\n",
       "      <th>0</th>\n",
       "      <td>wf_unit_rainfed_green</td>\n",
       "      <td>1.000000e+20</td>\n",
       "      <td>wf_unit_almonds_average_2010_2019.nc</td>\n",
       "      <td>almonds</td>\n",
       "    </tr>\n",
       "    <tr>\n",
       "      <th>1</th>\n",
       "      <td>wf_unit_rainfed_blue</td>\n",
       "      <td>1.000000e+20</td>\n",
       "      <td>wf_unit_almonds_average_2010_2019.nc</td>\n",
       "      <td>almonds</td>\n",
       "    </tr>\n",
       "    <tr>\n",
       "      <th>2</th>\n",
       "      <td>wf_unit_irrigated_green</td>\n",
       "      <td>1.000000e+20</td>\n",
       "      <td>wf_unit_almonds_average_2010_2019.nc</td>\n",
       "      <td>almonds</td>\n",
       "    </tr>\n",
       "    <tr>\n",
       "      <th>3</th>\n",
       "      <td>wf_unit_irrigated_blue</td>\n",
       "      <td>1.000000e+20</td>\n",
       "      <td>wf_unit_almonds_average_2010_2019.nc</td>\n",
       "      <td>almonds</td>\n",
       "    </tr>\n",
       "    <tr>\n",
       "      <th>4</th>\n",
       "      <td>wf_unit_rainfed</td>\n",
       "      <td>1.000000e+20</td>\n",
       "      <td>wf_unit_almonds_average_2010_2019.nc</td>\n",
       "      <td>almonds</td>\n",
       "    </tr>\n",
       "    <tr>\n",
       "      <th>...</th>\n",
       "      <td>...</td>\n",
       "      <td>...</td>\n",
       "      <td>...</td>\n",
       "      <td>...</td>\n",
       "    </tr>\n",
       "    <tr>\n",
       "      <th>6617</th>\n",
       "      <td>wf_unit_irrigated_green</td>\n",
       "      <td>1.000000e+20</td>\n",
       "      <td>wf_unit_yams_average_2010_2019.nc</td>\n",
       "      <td>yams</td>\n",
       "    </tr>\n",
       "    <tr>\n",
       "      <th>6618</th>\n",
       "      <td>wf_unit_irrigated_blue</td>\n",
       "      <td>1.000000e+20</td>\n",
       "      <td>wf_unit_yams_average_2010_2019.nc</td>\n",
       "      <td>yams</td>\n",
       "    </tr>\n",
       "    <tr>\n",
       "      <th>6619</th>\n",
       "      <td>wf_unit_rainfed</td>\n",
       "      <td>1.000000e+20</td>\n",
       "      <td>wf_unit_yams_average_2010_2019.nc</td>\n",
       "      <td>yams</td>\n",
       "    </tr>\n",
       "    <tr>\n",
       "      <th>6620</th>\n",
       "      <td>wf_unit_irrigated</td>\n",
       "      <td>1.000000e+20</td>\n",
       "      <td>wf_unit_yams_average_2010_2019.nc</td>\n",
       "      <td>yams</td>\n",
       "    </tr>\n",
       "    <tr>\n",
       "      <th>6621</th>\n",
       "      <td>wf_unit_total</td>\n",
       "      <td>1.000000e+20</td>\n",
       "      <td>wf_unit_yams_average_2010_2019.nc</td>\n",
       "      <td>yams</td>\n",
       "    </tr>\n",
       "  </tbody>\n",
       "</table>\n",
       "<p>6622 rows × 4 columns</p>\n",
       "</div>"
      ],
      "text/plain": [
       "                    indicator         value  \\\n",
       "0       wf_unit_rainfed_green  1.000000e+20   \n",
       "1        wf_unit_rainfed_blue  1.000000e+20   \n",
       "2     wf_unit_irrigated_green  1.000000e+20   \n",
       "3      wf_unit_irrigated_blue  1.000000e+20   \n",
       "4             wf_unit_rainfed  1.000000e+20   \n",
       "...                       ...           ...   \n",
       "6617  wf_unit_irrigated_green  1.000000e+20   \n",
       "6618   wf_unit_irrigated_blue  1.000000e+20   \n",
       "6619          wf_unit_rainfed  1.000000e+20   \n",
       "6620        wf_unit_irrigated  1.000000e+20   \n",
       "6621            wf_unit_total  1.000000e+20   \n",
       "\n",
       "                                  filename crop_name  \n",
       "0     wf_unit_almonds_average_2010_2019.nc   almonds  \n",
       "1     wf_unit_almonds_average_2010_2019.nc   almonds  \n",
       "2     wf_unit_almonds_average_2010_2019.nc   almonds  \n",
       "3     wf_unit_almonds_average_2010_2019.nc   almonds  \n",
       "4     wf_unit_almonds_average_2010_2019.nc   almonds  \n",
       "...                                    ...       ...  \n",
       "6617     wf_unit_yams_average_2010_2019.nc      yams  \n",
       "6618     wf_unit_yams_average_2010_2019.nc      yams  \n",
       "6619     wf_unit_yams_average_2010_2019.nc      yams  \n",
       "6620     wf_unit_yams_average_2010_2019.nc      yams  \n",
       "6621     wf_unit_yams_average_2010_2019.nc      yams  \n",
       "\n",
       "[6622 rows x 4 columns]"
      ]
     },
     "execution_count": 100,
     "metadata": {},
     "output_type": "execute_result"
    }
   ],
   "source": [
    "df[['crop_name1', 'crop_name2']] = df['filename'].str.split('unit_', n=1, expand=True)\n",
    "df[['crop_name', 'crop_name1']] = df['crop_name2'].str.split('_average', n=1, expand=True)\n",
    "df = df.drop(['crop_name1', 'crop_name2'], axis=1)\n",
    "df"
   ]
  },
  {
   "cell_type": "code",
   "execution_count": 101,
   "id": "d26db1dd-7090-49e1-ac3d-9c93baf749fa",
   "metadata": {},
   "outputs": [],
   "source": [
    "df = df.drop(['filename'], axis=1)"
   ]
  },
  {
   "cell_type": "code",
   "execution_count": 102,
   "id": "2768c60a-ffd9-49a4-a9ba-e93a66bbbd8b",
   "metadata": {},
   "outputs": [
    {
     "data": {
      "text/html": [
       "<div>\n",
       "<style scoped>\n",
       "    .dataframe tbody tr th:only-of-type {\n",
       "        vertical-align: middle;\n",
       "    }\n",
       "\n",
       "    .dataframe tbody tr th {\n",
       "        vertical-align: top;\n",
       "    }\n",
       "\n",
       "    .dataframe thead th {\n",
       "        text-align: right;\n",
       "    }\n",
       "</style>\n",
       "<table border=\"1\" class=\"dataframe\">\n",
       "  <thead>\n",
       "    <tr style=\"text-align: right;\">\n",
       "      <th></th>\n",
       "      <th>crop_name</th>\n",
       "      <th>indicator</th>\n",
       "      <th>value</th>\n",
       "    </tr>\n",
       "  </thead>\n",
       "  <tbody>\n",
       "    <tr>\n",
       "      <th>0</th>\n",
       "      <td>almonds</td>\n",
       "      <td>wf_unit_rainfed_green</td>\n",
       "      <td>1.000000e+20</td>\n",
       "    </tr>\n",
       "    <tr>\n",
       "      <th>1</th>\n",
       "      <td>almonds</td>\n",
       "      <td>wf_unit_rainfed_blue</td>\n",
       "      <td>1.000000e+20</td>\n",
       "    </tr>\n",
       "    <tr>\n",
       "      <th>2</th>\n",
       "      <td>almonds</td>\n",
       "      <td>wf_unit_irrigated_green</td>\n",
       "      <td>1.000000e+20</td>\n",
       "    </tr>\n",
       "    <tr>\n",
       "      <th>3</th>\n",
       "      <td>almonds</td>\n",
       "      <td>wf_unit_irrigated_blue</td>\n",
       "      <td>1.000000e+20</td>\n",
       "    </tr>\n",
       "    <tr>\n",
       "      <th>4</th>\n",
       "      <td>almonds</td>\n",
       "      <td>wf_unit_rainfed</td>\n",
       "      <td>1.000000e+20</td>\n",
       "    </tr>\n",
       "    <tr>\n",
       "      <th>...</th>\n",
       "      <td>...</td>\n",
       "      <td>...</td>\n",
       "      <td>...</td>\n",
       "    </tr>\n",
       "    <tr>\n",
       "      <th>6617</th>\n",
       "      <td>yams</td>\n",
       "      <td>wf_unit_irrigated_green</td>\n",
       "      <td>1.000000e+20</td>\n",
       "    </tr>\n",
       "    <tr>\n",
       "      <th>6618</th>\n",
       "      <td>yams</td>\n",
       "      <td>wf_unit_irrigated_blue</td>\n",
       "      <td>1.000000e+20</td>\n",
       "    </tr>\n",
       "    <tr>\n",
       "      <th>6619</th>\n",
       "      <td>yams</td>\n",
       "      <td>wf_unit_rainfed</td>\n",
       "      <td>1.000000e+20</td>\n",
       "    </tr>\n",
       "    <tr>\n",
       "      <th>6620</th>\n",
       "      <td>yams</td>\n",
       "      <td>wf_unit_irrigated</td>\n",
       "      <td>1.000000e+20</td>\n",
       "    </tr>\n",
       "    <tr>\n",
       "      <th>6621</th>\n",
       "      <td>yams</td>\n",
       "      <td>wf_unit_total</td>\n",
       "      <td>1.000000e+20</td>\n",
       "    </tr>\n",
       "  </tbody>\n",
       "</table>\n",
       "<p>6622 rows × 3 columns</p>\n",
       "</div>"
      ],
      "text/plain": [
       "     crop_name                indicator         value\n",
       "0      almonds    wf_unit_rainfed_green  1.000000e+20\n",
       "1      almonds     wf_unit_rainfed_blue  1.000000e+20\n",
       "2      almonds  wf_unit_irrigated_green  1.000000e+20\n",
       "3      almonds   wf_unit_irrigated_blue  1.000000e+20\n",
       "4      almonds          wf_unit_rainfed  1.000000e+20\n",
       "...        ...                      ...           ...\n",
       "6617      yams  wf_unit_irrigated_green  1.000000e+20\n",
       "6618      yams   wf_unit_irrigated_blue  1.000000e+20\n",
       "6619      yams          wf_unit_rainfed  1.000000e+20\n",
       "6620      yams        wf_unit_irrigated  1.000000e+20\n",
       "6621      yams            wf_unit_total  1.000000e+20\n",
       "\n",
       "[6622 rows x 3 columns]"
      ]
     },
     "execution_count": 102,
     "metadata": {},
     "output_type": "execute_result"
    }
   ],
   "source": [
    "df = df.loc[:, ['crop_name', 'indicator', 'value']]\n",
    "df"
   ]
  },
  {
   "cell_type": "code",
   "execution_count": 104,
   "id": "8358d724-7009-4403-acb1-7e8c39648e36",
   "metadata": {},
   "outputs": [],
   "source": [
    "df.to_csv(\"../data/waterfootprit_example.csv\")"
   ]
  }
 ],
 "metadata": {
  "kernelspec": {
   "display_name": "Python 3 (ipykernel)",
   "language": "python",
   "name": "python3"
  },
  "language_info": {
   "codemirror_mode": {
    "name": "ipython",
    "version": 3
   },
   "file_extension": ".py",
   "mimetype": "text/x-python",
   "name": "python",
   "nbconvert_exporter": "python",
   "pygments_lexer": "ipython3",
   "version": "3.11.9"
  }
 },
 "nbformat": 4,
 "nbformat_minor": 5
}
