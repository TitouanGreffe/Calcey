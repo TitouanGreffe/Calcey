{
 "cells": [
  {
   "cell_type": "markdown",
   "id": "bd3992f5-7a85-45fd-836d-39da425af4db",
   "metadata": {},
   "source": [
    "This script is used to calculate the emissions from fertilizer application and pesticides."
   ]
  },
  {
   "cell_type": "code",
   "execution_count": 1,
   "id": "a0c6e9c9-67b7-4fb0-ba8e-56794be9ff2f",
   "metadata": {},
   "outputs": [],
   "source": [
    "import pandas as pd\n",
    "import bw2data as bd\n"
   ]
  },
  {
   "cell_type": "code",
   "execution_count": 5,
   "id": "4e4f8d0a-c2e7-4e0e-95e7-31140bf40c0e",
   "metadata": {},
   "outputs": [
    {
     "name": "stdout",
     "output_type": "stream",
     "text": [
      "   Emission_kg_N2O  Emission_kg_NH3  Emission_kg_NO3  Emission_kg_NOx_N  \\\n",
      "0          0.01012           0.0552           0.6118           0.003883   \n",
      "\n",
      "   Emission_kg_P  \n",
      "0          0.014  \n",
      "<class 'pandas.core.frame.DataFrame'>\n"
     ]
    }
   ],
   "source": [
    "\"\"\"Function to calculate emissions from fertilizer application.\"\"\"\n",
    "def calculate_fert_emissions(ui_Nitrogenous_fert_kg, ui_Phosphate_type_fert_kg):\n",
    "    \"\"\"Create dataframe for generic fertilizer content\"\"\"\n",
    "    data_fertilizer_content = {\n",
    "        'fertilizer_type': ['Ammonium Sulphate', 'Ammonium chloride', 'Calcium Ammonium Nitrate', \n",
    "                            'Calcium Nitrate', 'Urea', \n",
    "                            'Single superphosphate SSP 14%', 'Rock Phosphate (powder/granular)', \n",
    "                            'Potassium chloride (powder/granular)', 'Potassium Sulphate', \n",
    "                            'NPK 15-15-15', 'NPK 10-26-26'],\n",
    "        'fert_N_content_%': [0.206, 0.250, 0.260, 0.155, 0.460, 0.000, 0.000, 0.000, 0.000, 0.150, 0.100],\n",
    "        'fert_P2O5_content_%': [0.000, 0.000, 0.000, 0.000, 0.000, 0.140, 0.180, 0.000, 0.000, 0.150, 0.221],\n",
    "        'fert_K2O_content_%': [0.00, 0.00, 0.00, 0.00, 0.00, 0.00, 0.00, 0.60, 0.50, 0.15, 0.26]\n",
    "    }\n",
    "    df_fertilizer_content = pd.DataFrame(data_fertilizer_content)\n",
    "\n",
    "    def calculate_individual_nutrient_contents(user_input_fert_type, user_input_fert_quantity_kg):\n",
    "        fert_row = df_fertilizer_content[df_fertilizer_content['fertilizer_type'] == user_input_fert_type]\n",
    "        \n",
    "        if fert_row.empty:\n",
    "            raise ValueError(f\"Fertilizer type '{user_input_fert_type}' not found in the DataFrame.\")\n",
    "        \n",
    "        nutrient_content_N = fert_row['fert_N_content_%'].values[0]\n",
    "        nutrient_content_P = fert_row['fert_P2O5_content_%'].values[0]\n",
    "        #nutrient_content_K = fert_row['fert_K2O_content_%'].values[0] #not needed for emissions\n",
    "        \n",
    "        ui_fert_N_content_kg = user_input_fert_quantity_kg * nutrient_content_N\n",
    "        ui_fert_P_content_kg = user_input_fert_quantity_kg * nutrient_content_P\n",
    "    \n",
    "        return ui_fert_N_content_kg, ui_fert_P_content_kg\n",
    "\n",
    "    \"\"\"Calculate nutrient contents\"\"\"\n",
    "    ui_fert_N_content_kg, ui_fert_P_content_kg = calculate_individual_nutrient_contents('Urea', ui_Nitrogenous_fert_kg)\n",
    "    _, ui_fert_P_content_kg = calculate_individual_nutrient_contents('Single superphosphate SSP 14%', ui_Phosphate_type_fert_kg)\n",
    "\n",
    "    \"\"\"Emission factors for fertilizer application from PEFCR\"\"\"\n",
    "    EF_N2O_fert = 0.022\n",
    "    EF_NH3_syn_fert = 0.12\n",
    "    EF_NO3_fert = 1.33\n",
    "    EF_NOx_fert = 0.012\n",
    "    EF_P_fert = 0.05\n",
    "\n",
    "    Emission_kg_N2O = ui_fert_N_content_kg * EF_N2O_fert\n",
    "    Emission_kg_NH3 = ui_fert_N_content_kg * EF_NH3_syn_fert\n",
    "    Emission_kg_NO3 = ui_fert_N_content_kg * EF_NO3_fert\n",
    "    Emission_kg_NOx = ((ui_fert_N_content_kg - Emission_kg_NH3 * 17 / 14) * EF_NOx_fert) * 46/14\n",
    "    Emission_kg_P = ui_fert_P_content_kg * EF_P_fert\n",
    "    \n",
    "    emissions_data = {\n",
    "        'Emission_kg_N2O': [Emission_kg_N2O],\n",
    "        'Emission_kg_NH3': [Emission_kg_NH3],\n",
    "        'Emission_kg_NO3': [Emission_kg_NO3],\n",
    "        'Emission_kg_NOx_N': [Emission_kg_NOx],\n",
    "        'Emission_kg_P': [Emission_kg_P]\n",
    "    }\n",
    "    \n",
    "    df_emissions = pd.DataFrame(emissions_data)\n",
    "    return df_emissions\n",
    "\n",
    "\n",
    "#TESTING ONLY!!! DO NOT ADD TO MAIN CODE!!\n",
    "print(calculate_fert_emissions(ui_Nitrogenous_fert_kg=1, ui_Phosphate_type_fert_kg=2))\n",
    "\n"
   ]
  }
 ],
 "metadata": {
  "kernelspec": {
   "display_name": "calcey_env_em",
   "language": "python",
   "name": "python3"
  },
  "language_info": {
   "codemirror_mode": {
    "name": "ipython",
    "version": 3
   },
   "file_extension": ".py",
   "mimetype": "text/x-python",
   "name": "python",
   "nbconvert_exporter": "python",
   "pygments_lexer": "ipython3",
   "version": "3.12.3"
  }
 },
 "nbformat": 4,
 "nbformat_minor": 5
}
